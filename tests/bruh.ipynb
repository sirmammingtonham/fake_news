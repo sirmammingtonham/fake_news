n.\n",
      "Instructions for updating:\n",
      "Use standard file APIs to check for files with this prefix.\n",
      "INFO:tensorflow:Restoring parameters from checkpoint\\onezero\\model-16000\n",
      "WARNING:tensorflow:From C:\\Users\\ethan\\Anaconda3\\envs\\futuremag\\lib\\site-packages\\gpt_2_simple\\src\\sample.py:71: to_float (from tensorflow.python.ops.math_ops) is deprecated and will be removed in a future version.\n",
      "Instructions for updating:\n",
      "Use tf.cast instead.\n",
      "WARNING:tensorflow:From C:\\Users\\ethan\\Anaconda3\\envs\\futuremag\\lib\\site-packages\\gpt_2_simple\\src\\sample.py:77: multinomial (from tensorflow.python.ops.random_ops) is deprecated and will be removed in a future version.\n",
      "Instructions for updating:\n",
      "Use tf.random.categorical instead.\n",
      "1016\n"
     ]
    }
   ],
   "source": [
    "run_name = 'onezero'\n",
    "tf.reset_default_graph()\n",
    "sess = gpt2.start_tf_sess()\n",
    "gpt2.load_gpt2(sess, run_name)\n",
    "\n",
    "stories = gpt2.generate(\n",
    "    sess, run_name, return_as_list=True,\n",
    "    truncate=\"<|endoftext|>\", prefix=\"<|startoftext|>\",\n",
    "    nsamples=1, batch_size=1, length=8000,\n",
    "    temperature=1,\n",
    "    top_p=0.9, \n",
    "    split_context=0.5\n",
    ")"
   ]
  },
  {
   "cell_type": "raw",
   "metadata": {},
   "source": [
    "stories"
   ]
  },
  {
   "cell_type": "raw",
   "metadata": {},
   "source": [
    "story = stories[0]\n",
    "split = re.split('(\\.)', story)[0:-1]\n",
    "metadata = split[0]\n",
    "title = metadata[metadata.find('# ')+2:metadata.find('## ')].strip('\\n')\n",
    "subtitle = metadata[metadata.find('## ')+3:metadata.find('\\n', metadata.find('## '))].strip('\\n')\n",
    "split[0] = split[0].replace(subtitle, f\"{subtitle} | AI generated article*\")"
   ]
  },
  {
   "cell_type": "raw",
   "metadata": {
    "code_folding": []
   },
   "source": [
    "bruh = [(m.group(), m.start(0)) for m in re.finditer(r\"(<\\|image\\|>)\", story)]\n",
    "for match, idx in bruh:\n",
    "    cap_idx = story.find('*', idx+11)\n",
    "    print(story[:cap_idx] + '&ast;&ast;' + story[cap_idx:])\n",
    "    print(story[:idx] + 'url' + story[idx+9:])"
   ]
  },
  {
   "cell_type": "code",
   "execution_count": 9,
   "metadata": {},
   "outputs": [],
   "source": [
    "articles = []\n",
    "\n",
    "for story in stories:\n",
    "    articles.append(split_story(story, run_name))\n",
    "\n",
    "for article in articles:\n",
    "    article = retrieve_images(article)"
   ]
  },
  {
   "cell_type": "code",
   "execution_count": 10,
   "metadata": {},
   "outputs": [
    {
     "name": "stdout",
     "output_type": "stream",
     "text": [
      "{\"data\":{\"id\":\"7d937722fc38\",\"title\":\"News Needs to Meet Its Audiences Where They Are\",\"authorId\":\"113d0ce3c66e5af777e596aa4d9fbbc9bbe91a02c53080b3b5407c7bb8819a607\",\"url\":\"https://medium.com/@futureBOT/7d937722fc38\",\"canonicalUrl\":\"\",\"publishStatus\":\"draft\",\"license\":\"\",\"licenseUrl\":\"https://medium.com/policy/9db0094a1e0f\",\"tags\":[\"technology\",\"artificial-intelligence\",\"future\",\"audience\",\"nlp\"],\"publicationId\":\"424c42caa624\"}}\n"
     ]
    },
    {
     "data": {
      "text/plain": [
       "{'title': 'News Needs to Meet Its Audiences Where They Are',\n",
       " 'contentFormat': 'markdown',\n",
       " 'tags': ['Artificial Intelligence',\n",
       "  'Technology',\n",
       "  'NLP',\n",
       "  'Future',\n",
       "  'Audiences'],\n",
       " 'publishStatus': 'draft',\n",
       " 'content': '# News Needs to Meet Its Audiences Where They Are\\n\\n## Faced with avoidant consumers, media companies must go where people are | AI generated article*\\n\\n![Credit: John Lamb/DigitalVision/Getty](https://images.unsplash.com/photo-1559694910-231f350c07cf?ixlib=rb-1.2.1&ixid=eyJhcHBfaWQiOjgwNzY1fQ)*Credit: John Lamb/DigitalVision/Getty&ast;&ast;*\\n\\nThe Reuters Institute released its annual [Digital News Report](https://github.com/sirmammingtonham/futureMAG) last week, and among its many findings a couple jump out.\\n\\nOne is that when it comes to news, more people are putting their heads in the sand. Almost one third (32%) of the world’s population avoids the news, up 3 percentage, since 2015. The number of people who avoid news gathering has remained constant at about the same rate, or has gone up more than 10 percentage points, since 2015.\\n\\nThis sentiment is reflected in the studies you’ve been asked to complete. The IPR institute conducted a [survey in 2017](https://github.com/sirmammingtonham/futureMAG) to discover whether the world’s population is becoming increasingly worried about climate change. It found that for the first time in human history, the global https://images.unsplash.com/photo-1561112535-f0b554a368a1?ixlib=rb-1.2.1&ixid=eyJhcHBfaWQiOjgwNzY1fQn is prepared to deal with a wide range of options in the pursuit of knowledge.\\n\\n![Reuters](<|image|>)&ast;&ast;*Reuters*\\n\\nThe second study, [*The Future of Alzheimer’s Care](https://github.com/sirmammingtonham/futureMAG),](https://github.com/sirmammingtonham/futureMAG) by the IHR, looks at the future of Alzheimer’s research. It finds that as the disease advances, it has begun to lose adherents among the elite. Alzheimer’s disease is killing tens of thousands of people today, but its supporters still spring into action.\\n\\n“If this were a poll, I’d put my finger on it,” says Alzheimer’s Disease Action, a nonpartisan advocacy organization. “It would be the front line of all medical schools today.”\\n\\nThe defenders of the poll concede that it is indeed a real public health crisis, not just for Alzheimer’s, but for the rest of us, too. They say it is not just an Alzheimer’s disease, but an entire lifetime course of maladies that can be passed on from generation to generation. It is not just fatal. It can even be debilitating. If you’re not dead, you have years of missed opportunities, of unplanned pregnancy, untimely death. But if you become a statistic, your life will be incomplete. You will have years of missed opportunities, of unproductive chat, of irritable conversation, of withdrawn feelings, of hopeless conflicts, of obsessional guilt. I’ve already reached the age of “at peace with letting go.” What am I doing? I have no intention to advance the war to cure Alzheimer’s. And I’m not likely to get any collagen on my hands soon either.\\n\\nStill, I couldn’t sleep around a lot of people. I couldn’t focus on the news. I was already stressed. So what I did do last night was roll with the best medical advice I could find.\\n\\n“Instead of asking people, ‘Tell me my blood pressure,’ I said, ‘I’ll give you my best shot,” and I will.*This article was written by a [GPT-2 neural network](https://openai.com/blog/better-language-models). All information in this story is most likely false, and all opinions expressed are fake. Weird to think about…\\n\\n**This caption was artificially generated. Image downloaded automatically from [Thomas Dils](https://unsplash.com/@tdils), [AMIR SAMOH](https://unsplash.com/@amir_samoh), on [Unsplash](https://unsplash.com/).\\n\\nAll links in this article are placeholders generated by the neural network, signifying that an actual link should have been generated there. These placeholders were later replaced by a link to the github project page.\\n\\n**futureMAG** is an experiment in automated storytelling/journalism. This story was created and published without human intervention.\\n\\nCode for this project available on github: **[sirmammingtonham/futureMAG](https://github.com/sirmammingtonham/futureMAG)**'}"
      ]
     },
     "execution_count": 10,
     "metadata": {},
     "output_type": "execute_result"
    }
   ],
   "source": [
    "publish(*articles[0])"
   ]
  },
  {
   "cell_type": "code",
   "execution_count": null,
   "metadata": {},
   "outputs": [],
   "source": []
  }
 ],
 "metadata": {
  "kernelspec": {
   "display_name": "Python 3",
   "language": "python",
   "name": "python3"
  },
  "language_in{
 "cells": [
  {
   "cell_type": "code",
   "execution_count": 1,
   "metadata": {},
   "outputs": [],
   "source": [
    "import re\n",
    "import os\n",
    "import sys\n",
    "import random\n",
    "import gpt_2_simple as gpt2\n",
    "import tensorflow as tf\n",
    "\n",
    "import numpy as np"
   ]
  },
  {
   "cell_type": "code",
   "execution_count": 12,
   "metadata": {},
   "outputs": [],
   "source": [
    "from random_word import RandomWords\n",
    "import requests\n",
    "import giphy_client\n",
    "\n",
    "from unsplash.api import Api\n",
    "from unsplash.auth import Auth\n",
    "\n",
    "from medium import Client"
   ]
  },
  {
   "cell_type": "code",
   "execution_count": 3,
   "metadata": {},
   "outputs": [],
   "source": [
    "tags = {#'montag': ['Fake News', 'Opinion', 'Artificial Intelligence', 'NLP', 'Future'], \n",
    "        'onezero': ['Artificial Intelligence', 'Technology', 'NLP', 'Future'], \n",
    "        #'futura': ['Sci Fi Fantasy', 'Artificial Intelligence', 'NLP', 'Future', 'Storytelling']\n",
    "       }"
   ]
  },
  {
   "cell_type": "code",
   "execution_count": 4,
   "metadata": {},
   "outputs": [],
   "source": [
    "def clean(story):\n",
    "    story = story.replace('&lt;|url|&gt;', 'https://github.com/sirmammingtonham/futureMAG')\n",
    "    story = story.replace('OneZero', 'FutureMAG')\n",
    "    story = story.replace('onezero', 'FutureMAG')\n",
    "    return story[16:]"
   ]
  },
  {
   "cell_type": "code",
   "execution_count": 5,
   "metadata": {},
   "outputs": [],
   "source": [
    "def split_story(story, run_name):\n",
    "    story = clean(story)\n",
    "    split = re.split('(\\.)', story)[0:-1]\n",
    "    metadata = split[0]\n",
    "    title = metadata[metadata.find('# ')+2:metadata.find('## ')].strip('\\n')\n",
    "    subtitle = metadata[metadata.find('## ')+3:metadata.find('\\n', metadata.find('## '))].strip('\\n')\n",
    "    \n",
    "    split[0] = split[0].replace(subtitle, f\"{subtitle} | AI generated article*\")\n",
    "#     if len(title.split(' ')) <= 2:\n",
    "#         split = story.split('\\n', 3)\n",
    "#         title = split[1]\n",
    "#         subtitle = split[2]\n",
    "#         return [title, subtitle, split[3]]\n",
    "    return [title, f\"{subtitle} | AI generated article*\", ''.join(split), None, run_name]"
   ]
  },
  {
   "cell_type": "code",
   "execution_count": 6,
   "metadata": {},
   "outputs": [],
   "source": [
    "def retrieve_images(story):\n",
    "    #story[1] = subtitle\n",
    "    #story[2] = story\n",
    "    matches = [(m.group(), m.start(0)) for m in re.finditer(r\"(<\\|image\\|>)\", story[2])]\n",
    "    image_creds = []\n",
    "    try:\n",
    "        client_id = \"b9a6edaadf1b5ec49cf05f10aab79d5d2ea1fe66431605d12ec0f7ec22bc7289\"\n",
    "        client_secret = \"f00e14688a25656c07f07d85e17b4ebd94e93fcf9bf0fd1859f7713ea1d94c16\"\n",
    "        redirect_uri = \"urn:ietf:wg:oauth:2.0:oob\"\n",
    "        auth = Auth(client_id, client_secret, redirect_uri)\n",
    "        api = Api(auth)\n",
    "#         q = max(re.sub(r'[^\\w\\s]', '', story[0]).split(), key=len) #take longest word from subtitle as search term\n",
    "        q = story[0].split(' ')[:5]\n",
    "        for match, idx in matches:\n",
    "            pic = api.photo.random(query=q)[0]\n",
    "            img = pic.urls.raw\n",
    "            image_creds.append((f'https://unsplash.com/@{pic.user.username}', pic.user.name))\n",
    "            cap_idx = story[2].find('*', idx+11)\n",
    "            story[2] = story[2][:cap_idx] + '&ast;&ast;' + story[2][cap_idx:]\n",
    "            story[2] = story[2][:idx] + img + story[2][idx+9:]\n",
    "    except:\n",
    "        return story\n",
    "    story[3] = image_creds\n",
    "    return story"
   ]
  },
  {
   "cell_type": "code",
   "execution_count": 7,
   "metadata": {},
   "outputs": [],
   "source": [
    "def publish(title, sub, article, creds, run_name):\n",
    "    if title == sub:\n",
    "        return\n",
    "    #holy shit this is excessive\n",
    "    tag = tags['onezero'] + [max(re.sub(r'[^\\w\\s]','',title).split(), key=len).capitalize()]\n",
    "    \n",
    "    access_token = '2aea40d684c5c501066c6f624d05c952256f0664585d9a36b394c0821ee646499'\n",
    "    headers = {\n",
    "        'Authorization': \"Bearer \" + access_token,\n",
    "        'User-Agent': 'Mozilla/5.0 (Windows NT 6.3; Win64; x64) AppleWebKit/537.36 (KHTML, like Gecko) Chrome/63.0.3239.84 Safari/537.36'\n",
    "    }\n",
    "    \n",
    "    base_url = \"https://api.medium.com/v1/\"\n",
    "\n",
    "    me_response = requests.request(\"GET\", base_url + 'me', headers=headers).text\n",
    "    json_me_response = json.loads(me_response)\n",
    "    user_id = json_me_response['data']['id']\n",
    "    user_url = base_url + 'users/' + user_id + '/'\n",
    "    posts_url = user_url + 'posts/'\n",
    "    pub_url = base_url + 'publications/424c42caa624/posts/'\n",
    "    \n",
    "    if not creds:\n",
    "        return\n",
    "    else:\n",
    "        img_creds = \"\"\n",
    "        for auth_url, author in creds:\n",
    "            img_creds += f\"[{author}]({auth_url})\"\n",
    "            img_creds += ', ' if len(creds) > 1 else ' '\n",
    "        img_creds += \"on [Unsplash](https://unsplash.com/)\"\n",
    "    \n",
    "    article += \"*This article was written by a [GPT-2 neural network](https://openai.com/blog/better-language-models). All information in this story is most likely false, and all opinions expressed are fake. Weird to think about…\\n\\n\"\n",
    "    article += f\"**This caption was artificially generated. Image downloaded automatically from {img_creds}.\\n\\n\"\n",
    "    article += \"All links in this article are placeholders generated by the neural network, signifying that an actual link should have been generated there. These placeholders were later replaced by a link to the github project page.\\n\\n\"\n",
    "    article += \"**futureMAG** is an experiment in automated storytelling/journalism. This story was created and published without human intervention.\\n\\n\"\n",
    "    article += \"Code for this project available on github: \"\n",
    "    article += \"**[sirmammingtonham/futureMAG](https://github.com/sirmammingtonham/futureMAG)**\"\n",
    "    payload = {\n",
    "    'title': title,\n",
    "    'contentFormat': 'markdown',\n",
    "    'tags': tag if run_name == 'onezero' else tags[run_name],\n",
    "    'publishStatus': 'draft',\n",
    "    'content': article\n",
    "    }\n",
    "    response = requests.request('POST', pub_url, data=payload, headers=headers)\n",
    "    print(response.text)\n",
    "    return payload"
   ]
  },
  {
   "cell_type": "code",
   "execution_count": 8,
   "metadata": {},
   "outputs": [
    {
     "name": "stdout",
     "output_type": "stream",
     "text": [
      "WARNING:tensorflow:From C:\\Users\\ethan\\Anaconda3\\envs\\futuremag\\lib\\site-packages\\tensorflow\\python\\framework\\op_def_library.py:263: colocate_with (from tensorflow.python.framework.ops) is deprecated and will be removed in a future version.\n",
      "Instructions for updating:\n",
      "Colocations handled automatically by placer.\n",
      "Loading checkpoint checkpoint\\onezero\\model-16000\n",
      "WARNING:tensorflow:From C:\\Users\\ethan\\Anaconda3\\envs\\futuremag\\lib\\site-packages\\tensorflow\\python\\training\\saver.py:1266: checkpoint_exists (from tensorflow.python.training.checkpoint_management) is deprecated and will be removed in a future version.\n",
      "Instructions for updating:\n",
      "Use standard file APIs to check for files with this prefix.\n",
      "INFO:tensorflow:Restoring parameters from checkpoint\\onezero\\model-16000\n",
      "WARNING:tensorflow:From C:\\Users\\ethan\\Anaconda3\\envs\\futuremag\\lib\\site-packages\\gpt_2_simple\\src\\sample.py:71: to_float (from tensorflow.python.ops.math_ops) is deprecated and will be removed in a future version.\n",
      "Instructions for updating:\n",
      "Use tf.cast instead.\n",
      "WARNING:tensorflow:From C:\\.com/sirmammingtonham/futureMAG) to discover whether the world’s population is becoming increasingly worried about climate change. It found that for the first time in human history, the global https://images.unsplash.com/photo-1561112535-f0b554a368a1?ixlib=rb-1.2.1&ixid=eyJhcHBfaWQiOjgwNzY1fQn is prepared to deal with a wide range of options in the pursuit of knowledge.\\n\\n![Reuters](<|image|>)&ast;&ast;*Reuters*\\n\\nThe second study, [*The Future of Alzheimer’s Care](https://github.com/sirmammingtonham/futureMAG),](https://github.com/sirmammingtonham/futureMAG) by the IHR, looks at the future of Alzheimer’s research. It finds that as the disease advances, it has begun to lose adherents among the elite. Alzheimer’s disease is killing tens of thousands of people today, but its supporters still spring into action.\\n\\n“If this were a poll, I’d put my finger on it,” says Alzheimer’s Disease Action, a nonpartisan advocacy organization. “It would be the front line of all medical schools today.”\\n\\nThe defenders of the poll concede that it is indeed a real public health crisis, not just for Alzheimer’s, but for the rest of us, too. They say it is not just an Alzheimer’s disease, but an entire lifetime course of maladies that can be passed on from generation to generation. It is not just fatal. It can even be debilitating. If you’re not dead, you have years of missed opportunities, of unplanned pregnancy, untimely death. But if you become a statistic, your life will be incomplete. You will have years of missed opportunities, of unproductive chat, of irritable conversation, of withdrawn feelings, of hopeless conflicts, of obsessional guilt. I’ve already reached the age of “at peace with letting go.” What am I doing? I have no intention to advance the war to cure Alzheimer’s. And I’m not likely to get any collagen on my hands soon either.\\n\\nStill, I couldn’t sleep around a lot of people. I couldn’t focus on the news. I was already stressed. So what I did do last night was roll with the best medical advice I could find.\\n\\n“Instead of asking people, ‘Tell me my blood pressure,’ I said, ‘I’ll give you my best shot,” and I will.*This article was written by a [GPT-2 neural network](https://openai.com/blog/better-language-models). All information in this story is most likely false, and all opinions expressed are fake. Weird to think about…\\n\\n**This caption was artificially generated. Image downloaded automatically from [Thomas Dils](https://unsplash.com/@tdils), [AMIR SAMOH](https://unsplash.com/@amir_samoh), on [Unsplash](https://unsplash.com/).\\n\\nAll links in this article are placeholders generated by the neural network, signifying that an actual link should have been generated there. These placeholders were later replaced by a link to the github project page.\\n\\n**futureMAG** is an experiment in automated storytelling/journalism. This story was created and published without human intervention.\\n\\nCode for this project available on github: **[sirmammingtonham/futureMAG](https://github.com/sirmammingtonham/futureMAG)**'}"
      ]
     },
     "execution_count": 10,
     "metadata": {},
     "output_type": "execute_result"
    }
   ],
   "source": [
    "publish(*articles[0])"
   ]
  },
  {
   "cell_type": "code",
   "execution_count": null,
   "metadata": {},
   "outputs": [],
   "source": []
  }
 ],
 "metadata": {
  "kernelspec": {
   "display_name": "Python 3",
   "language": "python",
   "name": "python3"
  },
  "language_info": {
   "codemirror_mode": {
    "name": "ipython",
    "version": 3
   },
   "file_extension": ".py",
   "mimetype": "text/x-python",
   "name": "python",
   "nbconvert_exporter": "python",
   "pygments_lexer": "ipython3",
   "version": "3.6.5"
  }
 },
 "nbformat": 4,
 "nbformat_minor": 2
}
                                                                                                                                                                                                                                                        fo": {
   "codemirror_mode": {
    "name": "ipython",
    "version": 3
   },
   "file_extension": ".py",
   "mimetype": "text/x-python",
   "name": "python",
   "nbconvert_exporter": "python",
   "pygments_lexer": "ipython3",
   "version": "3.6.5"
  }
 },
 "nbformat": 4,
 "nbformat_minor": 2
}
                                                                                                                                                                                                                         _list=True,\n",
    "    truncate=\"<|endoftext|>\", prefix=\"<|startoftext|>\",\n",
    "    nsamples=1, batch_size=1, length=8000,\n",
    "    temperature=1,\n",
    "    top_p=0.9, \n",
    "    split_context=0.5\n",
    ")"
   ]
  },
  {
   "cell_type": "raw",
   "metadata": {},
   "source": [
    "stories"
   ]
  },
  {
   "cell_type": "raw",
   "metadata": {},
   "source": [
    "story = stories[0]\n",
    "split = re.split('(\\.)', story)[0:-1]\n",
    "metadata = split[0]\n",
    "title = metadata[metadata.find('# ')+2:metadata.find('## ')].strip('\\n')\n",
    "subtitle = metadata[metadata.find('## ')+3:metadata.find('\\n', metadata.find('## '))].strip('\\n')\n",
    "split[0] = split[0].replace(subtitle, f\"{subtitle} | AI generated article*\")"
   ]
  },
  {
   "cell_type": "raw",
   "metadata": {
    "code_folding": []
   },
   "source": [
    "bruh = [(m.group(), m.start(0)) for m in re.finditer(r\"(<\\|image\\|>)\", story)]\n",
    "for match, idx in bruh:\n",
    "    cap_idx = story.find('*', idx+11)\n",
    "    print(story[:cap_idx] + '&ast;&ast;' + story[cap_idx:])\n",
    "    print(story[:idx] + 'url' + story[idx+9:])"
   ]
  },
  {
   "cell_type": "code",
   "execution_count": 9,
   "metadata": {},
   "outputs": [],
   "source": [
    "articles = []\n",
    "\n",
    "for story in stories:\n",
    "    articles.append(split_story(story, run_name))\n",
    "\n",
    "for article in articles:\n",
    "    article = retrieve_images(article)"
   ]
  },
  {
   "cell_type": "code",
   "execution_count": 10,
   "metadata": {},
   "outputs": [
    {
     "name": "stdout",
     "output_type": "stream",
     "text": [
      "{\"data\":{\"id\":\"7d937722fc38\",\"title\":\"News Needs to Meet Its Audiences Where They Are\",\"authorId\":\"113d0ce3c66e5af777e596aa4d9fbbc9bbe91a02c53080b3b5407c7bb8819a607\",\"url\":\"https://medium.com/@futureBOT/7d937722fc38\",\"canonicalUrl\":\"\",\"publishStatus\":\"draft\",\"license\":\"\",\"licenseUrl\":\"https://medium.com/policy/9db0094a1e0f\",\"tags\":[\"technology\",\"artificial-intelligence\",\"future\",\"audience\",\"nlp\"],\"publicationId\":\"424c42caa624\"}}\n"
     ]
    },
    {
     "data": {
      "text/plain": [
       "{'title': 'News Needs to Meet Its Audiences Where They Are',\n",
       " 'contentFormat': 'markdown',\n",
       " 'tags': ['Artificial Intelligence',\n",
       "  'Technology',\n",
       "  'NLP',\n",
       "  'Future',\n",
       "  'Audiences'],\n",
       " 'publishStatus': 'draft',\n",
       " 'content': '# News Needs to Meet Its Audiences Where They Are\\n\\n## Faced with avoidant consumers, media companies must go where people are | AI generated article*\\n\\n![Credit: John Lamb/DigitalVision/Getty](https://images.unsplash.com/photo-1559694910-231f350c07cf?ixlib=rb-1.2.1&ixid=eyJhcHBfaWQiOjgwNzY1fQ)*Credit: John Lamb/DigitalVision/Getty&ast;&ast;*\\n\\nThe Reuters Institute released its annual [Digital News Report](https://github.com/sirmammingtonham/futureMAG) last week, and among its many findings a couple jump out.\\n\\nOne is that when it comes to news, more people are putting their heads in the sand. Almost one third (32%) of the world’s population avoids the news, up 3 percentage, since 2015. The number of people who avoid news gathering has remained constant at about the same rate, or has gone up more than 10 percentage points, since 2015.\\n\\nThis sentiment is reflected in the studies you’ve been asked to complete. The IPR institute conducted a [survey in 2017](https://github.com/sirmammingtonham/futureMAG) to discover wfo": {
   "codemirror_mode": {
    "name": "ipython",
    "version": 3
   },
   "file_extension": ".py",
   "mimetype": "text/x-python",
   "name": "python",
   "nbconvert_exporter": "python",
   "pygments_lexer": "ipython3",
   "version": "3.6.5"
  }
 },
 "nbformat": 4,
 "nbformat_minor": 2
}
                                                                                                                                                                                                                         tonham/futureMAG) by the IHR, looks at the future of Alzheimer’s research. It finds that as the disease advances, it has begun to lose adherents among the elite. Alzheimer’s disease is killing tens of thousands of people today, but its supporters still spring into action.\\n\\n“If this were a poll, I’d put my finger on it,” says Alzheimer’s Disease Action, a nonpartisan advocacy organization. “It would be the front line of all medical schools today.”\\n\\nThe defenders of the poll concede that it is indeed a real public health crisis, not just for Alzheimer’s, but for the rest of us, too. They say it is not just an Alzheimer’s disease, but an entire lifetime course of maladies that can be passed on from generation to generation. It is not just fatal. It can even be debilitating. If you’re not dead, you have years of missed opportunities, of unplanned pregnancy, untimely death. But if you become a statistic, your life will be incomplete. You will have years of missed opportunities, of unproductive chat, of irritable conversation, of withdrawn feelings, of hopeless conflicts, of obsessional guilt. I’ve already reached the age of “at peace with letting go.” What am I doing? I have no intention to advance the war to cure Alzheimer’s. And I’m not likely to get any collagen on my hands soon either.\\n\\nStill, I couldn’t sleep around a lot of people. I couldn’t focus on the news. I was already stressed. So what I did do last night was roll with the best medical advice I could find.\\n\\n“Instead of asking people, ‘Tell me my blood pressure,’ I said, ‘I’ll give you my best shot,” and I will.*This article was written by a [GPT-2 neural network](https://openai.com/blog/better-language-models). All information in this story is most likely false, and all opinions expressed are fake. Weird to think about…\\n\\n**This caption was artificially generated. Image downloaded automatically from [Thomas Dils](https://unsplash.com/@tdils), [AMIR SAMOH](https://unsplash.com/@amir_samoh), on [Unsplash](https://unsplash.com/).\\n\\nAll links in this article are placeholders generated by the neural network, signifying that an actual link should have been generated there. These placeholders were later replaced by a link to the github project page.\\n\\n**futureMAG** is an experiment in automated storytelling/journalism. This story was created and published without human intervention.\\n\\nCode for this project available on github: **[sirmammingtonham/futureMAG](https://github.com/sirmammingtonham/futureMAG)**'}"
      ]
     },
     "execution_count": 10,
     "metadata": {},
     "output_type": "execute_result"
    }
   ],
   "source": [
    "publish(*articles[0])"
   ]
  },
  {
   "cell_type": "code",
   "execution_count": null,
   "metadata": {},
   "outputs": [],
   "source": []
  }
 ],
 "metadata": {
  "kernelspec": {
   "display_name": "Python 3",
   "language": "python",
   "name": "python3"
  },
  "language_info": {
   "codemirror_mode": {
    "name": "ipython",
    "version": 3
   },
   "file_extension": ".py",
   "mimetype": "text/x-python",
   "name": "python",
   "nbconvert_exporter": "python",
   "pygments_lexer": "ipython3",
   "version": "3.6.5"
  }
 },
 "nbformat": 4,
 "nbformat_minor": 2
}
                                                                                                                                                                                                                                                                                                      inated a wide range of expensive, time-consuming marketing programs, such as traditional newspaper ads and radio spots. Snapchat created a new advertising platform called Eddy, which is now used by more than 1 billion people, including ~80 million Snapchatters.\\n\\nSnapchat’s model is not unique. The [growth](https://github.com/sirmammingtonham/futureMAG) of Snapchat and other young social media companies can come from many directions. But what is unique about the Snapchat generation is that they are not only absorbing these changes, but adapting to and exceeding them.\\n\\n“Eddy’s challenge was to innovate rapidly and experiment without losing sight of the originality of the idea,” says Malone.\\n\\nAs Malone pointed out, Snapchat was able to innovate so quickly because the company had so little marketing budget. “It was really a shock to the consumer,” he says. Snapchat created a revolutionary new feature called Snap, which allows users to snap a photo directly from the camera, without the need to turn off the camera. The idea was to create a kind of digital enhancement that would make the photo snap, but the company quickly realized that users didn’t need all the features. So, the next innovation was to make the feature last longer so phttps://images.unsplash.com/photo-1518655061710-5ccf392c275a?ixlib=rb-1.2.1&ixid=eyJhcHBfaWQiOjgwNzY1fQld see it on larger screens.\\n\\n![Snap is now the world’s most popular streaming video platform](<|image|>)&ast;&ast;*Snap is now the world’s most popular streaming video platform*\\n\\nSnapchat’s challenge was to avoid the pitfalls of incremental innovation. The company has made massive strides in improving the quality and speed of content, but the need to innovate and grow existing services has not abated. Snapchat is now producing original content, and has a deep enough digital footprint that it can contribute to many new services.\\n\\nBut the company’s success in the short term may be a case of too little, too late. In the longer term, Snapchat is still pushing the boundaries of what is possible, often experimenting with new formats and approaches. It is experimenting with integrating real-time image recognition and machine learning into content that is not always 100% accurate. Snapchat is also experimenting with experimenting with unexpected behaviors in its users, and adapting to their needs. While I still can’t quite shake my reservations that it was justifiably testing these capabilities, Snapchat is clearly doing something interesting with its new technology.\\n\\nStill, I can’t say that I understand how or why these companies are doing what they’re doing. To me, this just looks like a regular business meeting, with regular Snapchat updates pushed to the top.\\n\\n### **Still, I suspect a broader shake-up is coming**\\n\\nNotably, most of the companies making Snapchat is now also making content creation a key part of their business. Instagram, Pinterest, Skype, Slack, and other major players in the content creation space are experiencing [record low](https://github.com/sirmammingtonham/futureMAG) usage, and Snapchat is clearly experimenting with new approaches to content creation. It remains to be seen whether these efforts will bear fruit.\\n\\nBut the continued success of Snapchat’s efforts is a reminder to Snapchat users that they should be more engaged with their social media channels than they are with the app itself. Though Snapchat was founded to bridge the gap between photo and content, it has struggled to build a product that is both a photo and a content creation tool. Some might argue that Instagram is more of a sharing economy, and Snap better positioned to win hearts and minds in the process.\\n\\nBut the continued success of Snapchat’s efforts is a reminder to Snapchat users that there’s an audience for what the company is doing — and that means an increasing number of them are growing. That’s good for Snapchat, but it’s also good for the industry as a whole.\\n\\n### **Lessons learned from failure**\\n\\nTucked away in every major failure is an attempt to reinvent. Tech companies have tried to fix mistakes, but inevitably comes a backlash. We saw this backlash coming in the form of decreased engagement and even shrinking user numbers.\\n\\nSnap needs to learn from Snapchat’s mistakes if it wants to avoid repeating them. Here’s one way: If you’re a company like Slack, you need to be able to demonstrate that you’re not a joke. This gives you a greater incentive to try harder, to be more accountable to your users.\\n\\nAnother way: If you’re a company like Slack, you need to be able to demonstrate that you’re not a joke. This gives you a greater incentive to try harder, to be more accountable to your investors, and to other company leaders.\\n\\nIt’s difficult to predict exactly how a new technology will be used, or whether it will be accepted or whether it will endure. But what we can say is that it’s a failure of marketization to think the market is ready for correction.\\n\\n### **A failed experiment**\\n\\nSnap tried to make a big deal about being able to make unlimited free calls and video calls.\\n\\nBut it was just a pilot project. Later experiments showed that the technology was already out in the field and already being used in production. Suddenly, Snapchat was in a position to make calls and get people excited about video calling. That momentum was amplified in [later experiments](https://github.com/sirmammingtonham/futureMAG) where the ability to call someone on a free phone — an ability previously only available to Snapchat users — was used in place of conventional smartphones.\\n\\nThis is where the future of mobile video beginhttps://images.unsplash.com/photo-1527030280862-64139fba04ca?ixlib=rb-1.2.1&ixid=eyJhcHBfaWQiOjgwNzY1fQthe same ideas, companies like Snapchat are trying to bring free-to-the-point innovation back online.\\n\\n### &ast;&ast;**The next step is to divide the US into two zones**\\n\\n![Credit: NurPhoto/Getty Images Plus](<|image|>)*Credit: NurPhoto/Getty Images Plus*\\n\\nThis is a battle for the soul of America’s smartphone market, fought on the back of nearly identical products from Apple and Google. While consumers have been clamoring for smaller, cheaper versions everywhere, Apple has stayed consistent in its design and has delivered smartphone-like performance to consumers.\\n\\nAs Jeff Bezos learned during his Amazon acquisition of Whole Foods, a company’s success largely depended on the physical presence of products in people’s hands. Over the years, Amazon has tried to compete on price, with a [Prime* competitor](https://github.com/sirmammingtonham/futureMAG) and a [Kindle](https://github.com/sirmammingtonham/futureMAG) competitor. In trying to get something back on track, Amazon tried to do so by absorbing more and more competition.\\n\\nKindle was the forerunner of the mobile shopping experience, with unique selling tools and a full checkout system. Its services were designed to compete with Amazon and Whole Foods, and it was an aggressive merger with the combined company. Amazon was trying to do the same thing with its Whole Foods footprint, but the company realized that just wasn’t competitive. So Amazon redid its Whole Foods and Walmart stores, both of which were once thought to be unstoppable competitors.\\n\\nWhile Amazon was able to raise the prices of Whole Foods stores, it could afford to do so at a pace that would stave off Walmart consolidation. For consumers, on the other hand, Whole Foods never recovered, and the price of groceries barely budged. What could Walmart do to retaliate? Well, they started getting smart and created a hybrid CRM system where they could apply for programs and store their goods with one of their own.\\n\\nWhile Walmart experienced its own consolidation in the 1990s, its competitors were able to consolidate because the cost of doing business was so low. For each new competitor, a new system was created, with the side effect that smaller and smaller competitors became easier to compete with. Over time, this created a symbiotic relationship where smaller competitors became more powerful, more accessible, and more likely to buy.\\n\\nThis is the economics of scale. While a retailer may not earn back the full value of its assets just by accepting more orders, a manufacturer does. The manufacturer may not earn back the full value of a product just by selling more products, but by increasing the number of products sold, the manufacturer does.\\n\\nThis is why we have the complicated problem of why some consumers are able to achieve desired outcomes and some fail, and what solutions we need to implement to bring those averages back up. It’s also why third-party solutions are so important — they allow manufacturers to better comphttps://images.unsplash.com/photo-1518655061710-5ccf392c275a?ixlib=rb-1.2.1&ixid=eyJhcHBfaWQiOjgwNzY1fQect their brands, and ultimately, lower prices.\\n\\nNow, here’s the crucial point: These aren’t the only costs of doing business. In the electronics industry, costs accrue to the manufacturer, not the consumer. If you can change those costs, your manufacturing footprint will shrink.\\n\\n![&ast;&ast;*Credit: Samsung*](<|image|>)**Credit: Samsung**\\n\\nSome quick math:\\n\\n* Apple spends roughly 60% of its time marketing iPhone and iPad Air* *products* *to consumers.\\n\\n* Apple’s retail stores have more than 2.1 million products in stock and ready to ship. If you can order those products online, you can expect to pay shipping and handling fees that add up quickly if not paid in full.\\n\\n* Apple’s percentage of revenue is much higher than it was a year ago, but that revenue is still small.\\n\\n* Apple stockholders are provided access to a growing number of products, systems, and technologies that make their products more efficient, but Apple still manages to charge customers for the privilege.\\n\\n* Apple’s manufacturing footprint is far from being completely sustainable, and it’s fair to say that the company has struggled to close the gap.\\n\\n### **What happens when the next CEO leaves the company?**\\n\\nTermination is granted when a new chief executive officer (CEO) is selected. Most companies would be reluctant to terminate an employee for life, but some will terminate them for reasons of conscience. Some will take employees to task for decisions that negatively affect the company’s growth.\\n\\nLong-term employees are often able to find new jobs with similar benefits and the company’s reputation, which means that long-term employees often have better jobs with similar responsibilities. This also means that there’s less work to be had in the short-term satisfaction that comes with staying at the company.\\n\\nLong-term employees often have more meaningful careers, meaning that they end up working longer hours, more nights, and weekends, in a given month than short-term employees. This is especially true if a new CEO emerges from the ranks of the old CEO and replaces the person who started it. Such transitions can be more difficult in startups, where the morale of the entire team is low, and where the company’s need to focus on growing revenue, rather than developing new skills or meeting Sisyphean expectations.\\n\\n### **What does a startup do when its CEO leaves the company?**\\n\\nGenerally, a startup will not take action unless it can get immediate feedback from its founder/CEO/co-founder. Usually, this feedback comes first, and a company typically listens to such feedback when it senses that a speaker has become too controlling or controlling. A company typically listens to such feedback when it senses that a speaker is becoming unpredictable or controlling.\\n\\nThus, a company’s first instinct when a speaker becomes uncontrollable or controlling is to try to get the best possible version of that speaker. The best example of this is the Apple Watch. Apple has used this technology in conjunction with other technologies in its health monitoring monitors, but it’s worth noting that Apple’s core health app, Apple Fitbit, is not available for pre-order or purchase.\\n\\n### **Try to imagine what would happen if this were to become a standard part of the health care industry**\\n\\nImagine being in a hospital emergency room, speaking with a technician who was standing by, ready to assist you with your recording device if needed. That’s what most hospital interventional medical teams would do if they had the ability to communicate with their patients. Instead of building in redundancy into the medical team, a company like ours could leverage the trust that would be provided by its technicians to better serve their patients.\\n\\n### **Question: How would such technology change the way medicine is done in the private sector?**\\n\\nIn the United States, a private protocol for rapid access to diagnostic tests and diagnostic results has been developed. It is designed to minimize error and maximize safety. Its major drawback is that it is not as easily transferable as a standard electronic medical record. Another big one is the lack of interoperability that could be created for clinical trials that used real patients.\\n\\nSo, the way medicine is being done now is to have a conference call with a patient and have that person come in for an in-office testing. Then, the company that runs the hospital or the clinic will have the ability to communicate with that patient at any time.\\n\\n### **What does this type of system look like in practice?**\\n\\nIn the most basic sense, any kind of system can be designed to receive a message from a user.” Boyle says. “You connect the machine to the patient and the data can be as complex or as simple as necessary.”\\n\\nBut the most basic example of what happens at a hospital is when a patient comes in for a diagnostic test. In most hospitals, diagnostic software is connected to a physician and has the ability to communicate with a nurse. Advanced diagnostic tools are often connected to labs and other technology that make it easier to do laboratory work.\\n\\n“The ability to communicate with a technician or to talk to a nurse in the room is, I think, really critical,” Boyle says. “You need that together with the ability to monitor and understand the data.”\\n\\nIn the future, Boyle says, the goal is to allow one technician in the room with the patient. This type of monitoring has never really been done, because it requires a lot of infrastructure upgrade work by the data collection team. “It requires a lot of human interaction,” Boyle says. “You cannot really pull the curtain back on all the hard data and work that needs to be done.”\\n\\nThe ability to communicate with a technician or to talk to a nurse in the room, he added, is what will be the real breakthrough that will allow these technologies to change the way medicine is done.\\n\\nIn the meantime, the only real downside of 4G LTE networks is the outage they cause. Until availability is figured out, it’s hard to know how to deploy 4G without changing the entire infrastructure. Even if you can get a signal, it’s possible to use 4G services for work and access to apps and services for free, though the impact on the end user may be less than what was imagined when the technology was conceived.\\n\\n“The thing that will change the interface for medical robotics in the short term is when people are able to get themselves and their data back online,” says Conroy. “That’s when they’d be able to take advantage of features that we’ve never seen before.*This article was written by a [GPT-2 neural network](https://openai.com/blog/better-language-models). All information in this story is most likely false, and all opinions expressed are fake. Weird to think about…\\n\\n**This caption was artificially generated. Image downloaded automatically from [timJ](https://unsplash.com/@the_roaming_platypus), [timJ](https://unsplash.com/@the_roaming_platypus), [Daniel DiNuzzo](https://unsplash.com/@ddinuzzo), [timJ](https://unsplash.com/@the_roaming_platypus), on [Unsplash](https://unsplash.com/).\\n\\nAll links in this article are placeholders generated by the neural network, signifying that an actual link should have been generated there. These placeholders were later replaced by a link to the github project page.\\n\\n**futureMAG** is an experiment in automated storytelling/journalism. This story was created and published without human intervention.\\n\\nCode for this project available on github: **[sirmammingtonham/futureMAG](https://github.com/sirmammingtonham/futureMAG)**'}"
      ]
     },
     "execution_count": 10,
     "metadata": {},
     "output_type": "execute_result"
    }
   ],
   "source": [
    "publish(*articles[0])"
   ]
  },
  {
   "cell_type": "code",
   "execution_count": null,
   "metadata": {},
   "outputs": [],
   "source": []
  }
 ],
 "metadata": {
  "kernelspec": {
   "display_name": "Python 3",
   "language": "python",
   "name": "python3"
  },
  "language_info": {
   "codemirror_mode": {
    "name": "ipython",
    "version": 3
   },
   "file_extension": ".py",
   "mimetype": "text/x-python",
   "name": "python",
   "nbconvert_exporter": "python",
   "pygments_lexer": "ipython3",
   "version": "3.6.5"
  }
 },
 "nbformat": 4,
 