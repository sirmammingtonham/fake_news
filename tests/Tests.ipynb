{
 "cells": [
  {
   "cell_type": "code",
   "execution_count": 27,
   "metadata": {},
   "outputs": [],
   "source": [
    "import numpy as np\n",
    "import logging\n",
    "\n",
    "import torch\n",
    "import torch.nn.functional as F\n",
    "import numpy as np\n",
    "\n",
    "\n",
    "from tqdm import trange\n",
    "from pytorch_pretrained_bert import GPT2Tokenizer, GPT2Model, GPT2LMHeadModel"
   ]
  },
  {
   "cell_type": "code",
   "execution_count": 3,
   "metadata": {},
   "outputs": [
    {
     "name": "stderr",
     "output_type": "stream",
     "text": [
      "100%|████████████████████████████████████████████████████████████████████| 1042301/1042301 [00:00<00:00, 1956503.68B/s]\n",
      "100%|███████████████████████████████████████████████████████████████████████| 456318/456318 [00:00<00:00, 959259.88B/s]\n"
     ]
    }
   ],
   "source": [
    "# Load pre-trained model tokenizer (vocabulary)\n",
    "tokenizer = GPT2Tokenizer.from_pretrained('gpt2')"
   ]
  },
  {
   "cell_type": "code",
   "execution_count": 7,
   "metadata": {},
   "outputs": [],
   "source": [
    "text_1 = \"It was nearly two weeks later when the cosmonaut was jolted out of sleep, \"\n",
    "text_2 = \"snug against\"\n",
    "indexed_tokens_1 = tokenizer.encode(text_1)\n",
    "indexed_tokens_2 = tokenizer.encode(text_2)\n",
    "\n",
    "# Convert inputs to PyTorch tensors\n",
    "tokens_tensor_1 = torch.tensor([indexed_tokens_1])\n",
    "tokens_tensor_2 = torch.tensor([indexed_tokens_2])"
   ]
  },
  {
   "cell_type": "code",
   "execution_count": 8,
   "metadata": {},
   "outputs": [
    {
     "name": "stderr",
     "output_type": "stream",
     "text": [
      "100%|███████████████████████████████████████████████████████████████| 548118077/548118077 [00:35<00:00, 15387170.36B/s]\n",
      "100%|█████████████████████████████████████████████████████████████████████████████| 176/176 [00:00<00:00, 176517.82B/s]\n"
     ]
    }
   ],
   "source": [
    "# Load pre-trained model (weights)\n",
    "model = GPT2LMHeadModel.from_pretrained('gpt2')\n",
    "model.eval()\n",
    "\n",
    "# If you have a GPU, put everything on cuda\n",
    "tokens_tensor_1 = tokens_tensor_1.to('cuda')\n",
    "tokens_tensor_2 = tokens_tensor_2.to('cuda')\n",
    "model.to('cuda')\n",
    "\n",
    "# Predict all tokens\n",
    "with torch.no_grad():\n",
    "    predictions_1, past = model(tokens_tensor_1)\n",
    "    # past can be used to reuse precomputed hidden state in a subsequent predictions\n",
    "    # (see beam-search examples in the run_gpt2.py example).\n",
    "    predictions_2, past = model(tokens_tensor_2, past=past)\n",
    "\n",
    "# get the predicted last token\n",
    "predicted_index = torch.argmax(predictions_2[0, -1, :]).item()\n",
    "predicted_token = tokenizer.decode([predicted_index])"
   ]
  },
  {
   "cell_type": "code",
   "execution_count": 9,
   "metadata": {},
   "outputs": [
    {
     "data": {
      "text/plain": [
       "' the'"
      ]
     },
     "execution_count": 9,
     "metadata": {},
     "output_type": "execute_result"
    }
   ],
   "source": [
    "predicted_token"
   ]
  },
  {
   "cell_type": "markdown",
   "metadata": {},
   "source": [
    "lol"
   ]
  },
  {
   "cell_type": "code",
   "execution_count": 14,
   "metadata": {
    "code_folding": []
   },
   "outputs": [],
   "source": [
    "logging.basicConfig(format = '%(asctime)s - %(levelname)s - %(name)s -   %(message)s',\n",
    "                    datefmt = '%m/%d/%Y %H:%M:%S',\n",
    "                    level = logging.INFO)\n",
    "logger = logging.getLogger(__name__)"
   ]
  },
  {
   "cell_type": "code",
   "execution_count": 15,
   "metadata": {},
   "outputs": [],
   "source": [
    "def top_k_logits(logits, k):\n",
    "    \"\"\"\n",
    "    Masks everything but the k top entries as -infinity (1e10).\n",
    "    Used to mask logits such that e^-infinity -> 0 won't contribute to the\n",
    "    sum of the denominator.\n",
    "    \"\"\"\n",
    "    if k == 0:\n",
    "        return logits\n",
    "    else:\n",
    "        values = torch.topk(logits, k)[0]\n",
    "        batch_mins = values[:, -1].view(-1, 1).expand_as(logits)\n",
    "        return torch.where(logits < batch_mins, torch.ones_like(logits) * -1e10, logits)"
   ]
  },
  {
   "cell_type": "code",
   "execution_count": 28,
   "metadata": {},
   "outputs": [],
   "source": [
    "def sample_sequence(model, length, start_token=None, batch_size=None, context=None, temperature=1, top_k=0, device='cuda', sample=True):\n",
    "    if start_token is None:\n",
    "        assert context is not None, 'Specify exactly one of start_token and context!'\n",
    "        context = torch.tensor(context, device=device, dtype=torch.long).unsqueeze(0).repeat(batch_size, 1)\n",
    "    else:\n",
    "        assert context is None, 'Specify exactly one of start_token and context!'\n",
    "        context = torch.full((batch_size, 1), start_token, device=device, dtype=torch.long)\n",
    "    prev = context\n",
    "    output = context\n",
    "    past = None\n",
    "    with torch.no_grad():\n",
    "        for i in trange(length):\n",
    "            logits, past = model(prev, past=past)\n",
    "            logits = logits[:, -1, :] / temperature\n",
    "            logits = top_k_logits(logits, k=top_k)\n",
    "            log_probs = F.softmax(logits, dim=-1)\n",
    "            if sample:\n",
    "                prev = torch.multinomial(log_probs, num_samples=1)\n",
    "            else:\n",
    "                _, prev = torch.topk(log_probs, k=1, dim=-1)\n",
    "            output = torch.cat((output, prev), dim=1)\n",
    "    return output"
   ]
  },
  {
   "cell_type": "code",
   "execution_count": 29,
   "metadata": {},
   "outputs": [],
   "source": [
    "def run_model(input_text, length=-1, nsamples=1, batch_size=1, temperature=1.0, top_k=0, seed=0):\n",
    "    \n",
    "    assert nsamples % batch_size == 0\n",
    "\n",
    "    np.random.seed(seed)\n",
    "    torch.random.manual_seed(seed)\n",
    "    torch.cuda.manual_seed(seed)\n",
    "    device = torch.device(\"cuda\" if torch.cuda.is_available() else \"cpu\")\n",
    "\n",
    "    enc = GPT2Tokenizer.from_pretrained('gpt2')\n",
    "    model = GPT2LMHeadModel.from_pretrained('gpt2')\n",
    "    model.to(device)\n",
    "    model.eval()\n",
    "\n",
    "    if length == -1:\n",
    "        length = model.config.n_ctx // 2\n",
    "    elif length > model.config.n_ctx:\n",
    "        raise ValueError(\"Can't get samples longer than window size: %s\" % model.config.n_ctx)\n",
    "\n",
    "    while True:\n",
    "        context_tokens = []\n",
    "        if input_text:\n",
    "            context_tokens = enc.encode(input_text)\n",
    "            generated = 0\n",
    "            for _ in range(nsamples // batch_size):\n",
    "                out = sample_sequence(\n",
    "                    model=model, length=length,\n",
    "                    context=context_tokens,\n",
    "                    start_token=None,\n",
    "                    batch_size=batch_size,\n",
    "                    temperature=temperature, top_k=top_k, device=device\n",
    "                )\n",
    "                out = out[:, len(context_tokens):].tolist()\n",
    "                for i in range(batch_size):\n",
    "                    generated += 1\n",
    "                    text = enc.decode(out[i])\n",
    "                    print(\"=\" * 40 + \" SAMPLE \" + str(generated) + \" \" + \"=\" * 40)\n",
    "                    print(text)\n",
    "            print(\"=\" * 80)\n",
    "        else:\n",
    "            generated = 0\n",
    "            for _ in range(nsamples // batch_size):\n",
    "                out = sample_sequence(\n",
    "                    model=model, length=length,\n",
    "                    context=None,\n",
    "                    start_token=enc.encoder['<|endoftext|>'],\n",
    "                    batch_size=batch_size,\n",
    "                    temperature=temperature, top_k=top_k, device=device\n",
    "                )\n",
    "                out = out[:,1:].tolist()\n",
    "                for i in range(batch_size):\n",
    "                    generated += 1\n",
    "                    text = enc.decode(out[i])\n",
    "                    print(\"=\" * 40 + \" SAMPLE \" + str(generated) + \" \" + \"=\" * 40)\n",
    "                    print(text)\n",
    "            print(\"=\" * 80)"
   ]
  },
  {
   "cell_type": "code",
   "execution_count": 30,
   "metadata": {
    "scrolled": true
   },
   "outputs": [
    {
     "name": "stderr",
     "output_type": "stream",
     "text": [
      "07/04/2019 17:51:37 - INFO - pytorch_pretrained_bert.tokenization_gpt2 -   loading vocabulary file https://s3.amazonaws.com/models.huggingface.co/bert/gpt2-vocab.json from cache at C:\\Users\\ethan\\.pytorch_pretrained_bert\\f2808208f9bec2320371a9f5f891c184ae0b674ef866b79c58177067d15732dd.1512018be4ba4e8726e41b9145129dc30651ea4fec86aa61f4b9f40bf94eac71\n",
      "07/04/2019 17:51:37 - INFO - pytorch_pretrained_bert.tokenization_gpt2 -   loading merges file https://s3.amazonaws.com/models.huggingface.co/bert/gpt2-merges.txt from cache at C:\\Users\\ethan\\.pytorch_pretrained_bert\\d629f792e430b3c76a1291bb2766b0a047e36fae0588f9dbc1ae51decdff691b.70bec105b4158ed9a1747fea67a43f5dee97855c64d62b6ec3742f4cfdb5feda\n",
      "07/04/2019 17:51:38 - INFO - pytorch_pretrained_bert.modeling_gpt2 -   loading weights file https://s3.amazonaws.com/models.huggingface.co/bert/gpt2-pytorch_model.bin from cache at C:\\Users\\ethan\\.pytorch_pretrained_bert\\4295d67f022061768f4adc386234dbdb781c814c39662dd1662221c309962c55.778cf36f5c4e5d94c8cd9cefcf2a580c8643570eb327f0d4a1f007fab2acbdf1\n",
      "07/04/2019 17:51:38 - INFO - pytorch_pretrained_bert.modeling_gpt2 -   loading configuration file https://s3.amazonaws.com/models.huggingface.co/bert/gpt2-config.json from cache at C:\\Users\\ethan\\.pytorch_pretrained_bert\\4be02c5697d91738003fb1685c9872f284166aa32e061576bbe6aaeb95649fcf.085d5f6a8e7812ea05ff0e6ed0645ab2e75d80387ad55c1ad9806ee70d272f80\n",
      "07/04/2019 17:51:38 - INFO - pytorch_pretrained_bert.modeling_gpt2 -   Model config {\n",
      "  \"initializer_range\": 0.02,\n",
      "  \"layer_norm_epsilon\": 1e-05,\n",
      "  \"n_ctx\": 1024,\n",
      "  \"n_embd\": 768,\n",
      "  \"n_head\": 12,\n",
      "  \"n_layer\": 12,\n",
      "  \"n_positions\": 1024,\n",
      "  \"vocab_size\": 50257\n",
      "}\n",
      "\n",
      "100%|████████████████████████████████████████████████████████████████████████████████| 512/512 [00:19<00:00, 26.39it/s]\n"
     ]
    },
    {
     "name": "stdout",
     "output_type": "stream",
     "text": [
      "======================================== SAMPLE 1 ========================================\n",
      " a driving lane about two miles across, and crashed in front of a private house, his engine torching and the crew short-circuiting it. Barefoot, limp, fragile and unsteady, he wandered from room to room, and on one occasion, up to his knees, his neck snapped out of shape. He had been dressed, although his trousers were tighter, and attached a turtlelike, unnaturally intelligent nose and heart. He took exception to the omission of his mother and father, who had planned to take him to childbirth if more time did not permit. He wanted to cry. The idea struck a wider range of people – taller people just barely like him, thick people like him early that have attractions he can never even move out of, people of eager sex. Others welcomed a breath of air, (painful strokes on what looked like a tree or a beach, still theirs is stiff, odd). He scooted back into a steering wheel, stared at the plowed mud, glowered at his children before tentatively guiding them away, after a long, quiet man apparently gingerly sleeping on the other side of the road, who could possibly be a fireman. Sleep seemed frivolous – impossible for them. The only way to be through all the shift without stammering on the stretches of dawn would be again screaming at him, \"Come on, let me find you more and more funny under the blanket.\" Working hard to resolve it, Blank started a elevators' fire this evening, with three flights of stairs, carrying blocklights screaming in three-storey apartments turned southwards by a gas-shelling park full of small green rooms, a hallway beyond two and a half foyer leading to the Dolphinarium; other than a few hot showers hanging in the corners, the Dolphinarium directly behind him, tight something wrapped around his neck that the vein was simply loosed in; no mammals in single walk-ons; there would be only children's toys. Though both of his mothers must have suffered severe attention declines in childbirth alone, he knew no reason to offer evidence that casually naked children had indeed fashioned of the youth's flesh the morality for tonight's festivities. But there was any sense of relief or relief on his face once him had arrived. Kicking himself up instantly, Blank started off the stairs directed by his father, for they reached the canteen before fleeing transition from that night to tomorrow's schedule, even when the darkness dropped, giving his sister's quarters a different end. There,\n",
      "================================================================================\n"
     ]
    },
    {
     "name": "stderr",
     "output_type": "stream",
     "text": [
      "100%|████████████████████████████████████████████████████████████████████████████████| 512/512 [00:18<00:00, 27.72it/s]\n"
     ]
    },
    {
     "name": "stdout",
     "output_type": "stream",
     "text": [
      "======================================== SAMPLE 1 ========================================\n",
      " the explosion that killed his girlfriend Julia, and then more panic erupted, when the bluish-green stinky from Venus ignited and asth rivalled the sheer blue of the sun.\n",
      "\n",
      "''It devastated the life of the woman, and disabled Zheng even more over here,'' he said.\n",
      "\n",
      "Analysis An ordinary nine-week job doesn't always suffice for a person like Zheng, he said. This is especially so in China, where about 70 percent of the workforce currently doesn't even speak English. For nice and experienced workers like Zheng, their feet, all, are probably soaked by a glass of water the size of a dung beetle. Chef Yi-Hua Hou, 27, from Chenzhou, who owns Jiangnong City graciously raises prawns for tourists from year to year; the economy hasn't gone strong at all. He addumes large plate of cooked prawns with whipped cream and offers customers a \"buy some cheap dinner\" discount, but Nik Ek, 35, in Ajincheng, one of Guangzhou's tourist attractions, encourages DIY dishes that involve fancy catapult, cheap sandwich meats and poutine.\n",
      "\n",
      "\"These in visitates in what are called 'stay-at-home restaurants' have a lower income; people go back to third-class hotels, which are top-ranked at places like Fands, Le 6, Quevyo Square, Real Station, Ju Qiang and other locations of the city,'' he said. \"The customs raked over thin as well, upwards of 1,000 yuan per trip. Experienced chef is always under guard, but few Chinese are experienced at meeting new people, and overall the internet is barely reducing their stress.\"\n",
      "\n",
      "Malia using a bathroom after scoring a meal with her weekly dad in Jiangsu. Smiling with dried blood during her performance, it all seemed to involve two whale counts created simply in two different nights. [Joshua Dennis/Bloomberg News]\n",
      "\n",
      "Finnish chef Baudin Hruszar said the lack of tolerance spread far if they refuse to work when the government brings backerous food taxes, thus sending extra migrants.\n",
      "\n",
      "\"They would total 30,000 people to the US last year and a half, after which it disappeared as a normal shudder. There were attacks on people by media, entrepreneurial scions. There was a lot of violence,'' he said.\n",
      "\n",
      "In a way it's both antisocial institutions and an attempt to treat outsiders badly. Shijun Yang, who studied medicine\n",
      "================================================================================\n"
     ]
    },
    {
     "name": "stderr",
     "output_type": "stream",
     "text": [
      "100%|████████████████████████████████████████████████████████████████████████████████| 512/512 [00:18<00:00, 27.17it/s]\n"
     ]
    },
    {
     "name": "stdout",
     "output_type": "stream",
     "text": [
      "======================================== SAMPLE 1 ========================================\n",
      " a big opening of sunlight. This expedition\n",
      "\n",
      "ADMIRAL \"podded and folded\" as he lay dying. However, in the previous day, January 4th 1999, Grestminster's hand was placed in\n",
      "\n",
      "your face. To always have, perhaps you will execute, the deceased's wish for the opportunity of this wonderful demise. Yet it would be unbearable if you could do no more. It was good, glorious. I already believed around the same time-once-if how many people will have read about restoration of Dessie from the horrific accident and how; describe and write down your thoughts, muscles, heads, breath, etc. Say the same again. It is not easy to deal with an absolutely knee-high hindered by injuries that can only be handled in a mostly upright manner. G-- What if I wait? Only people would voluntarily pull down what little embrace power your in low time other than your with\n",
      "\n",
      "Ornia- of fractions. And from what uncontrollable and ineffective consequences could it possibly enjoy just as full!\n",
      "\n",
      "In your nose and richly extended eyes don't come out as a cushion of air. It did think a single photon over my limbs didn't\n",
      "\n",
      "necessarily favor My midsection, but that tried not to. A piece of demirabilia which I have actually held for a long time, something to keep introsions small, rather than that demirabilia which was in a container thrown over the back porch of his home.\n",
      "\n",
      "Recex and elegance no longer include hidden names. Only in Volume 1.\n",
      "\n",
      "G-- What if I stay there? If I allow myself to waltz over people awaiting my departure from my Mothers existence,\n",
      "\n",
      "would my extended face change?! Or some fanciful ectoplasmogical possibility of hemorrhaging? The events leading up to dccievement always call for use of outstanding nudistguides and I-don't-want-a-ruuuuuuh the other Richard Changmers that left me\n",
      "\n",
      "House Door Wutten [~87 year old: 21–22 yrs old used variant here.] courtesy amyDancy and I would climb a ladder through a pool head to penetrate the even.\n",
      "\n",
      "Deep within my skull where my incomprehensible absolute stupid god has lied!\n",
      "\n",
      "Wait tolerant dorm freaks, that would be timeouts to cure my nerves of separation expert abetter thrown through the fiendish Pleae that gains access to the Honolulu Hardware machine.\n",
      "================================================================================\n"
     ]
    },
    {
     "name": "stderr",
     "output_type": "stream",
     "text": [
      "100%|████████████████████████████████████████████████████████████████████████████████| 512/512 [00:18<00:00, 27.13it/s]\n"
     ]
    },
    {
     "name": "stdout",
     "output_type": "stream",
     "text": [
      "======================================== SAMPLE 1 ========================================\n",
      " a driver who possibly wanted his driver's license restored. \"I'm not good at logic,\" Mo said, \"but you can fix your eyes later.\"   The reason for this cheerful and cheerful face wearing goggle routine is simple: (1) A measurement of my skin tone.) (2) A diagnostic of my scalp misery. (3) A lesson in being satisfied with some unsalvageable inconvenience. (4) A refuge from anger and exploitation.     (5) A goal of drilling a jewel from a crustacean HQ warehouse. (6) A $13,000 loan from the Federal Aviation Administration to pay my mother's wife for everything I bought.  \n",
      "What a joke, right?<|endoftext|>Megan Place: Denver, CO - A JPMorgan Chase moving store opened today and now a new word in the travel-related vocabulary: sleek estate office.\n",
      "\n",
      "Emerson Place is a fully seven-unit, single-family house on Dloresville Avenue between First and First Although building a basic office space there, the Center Winery Building opened on second Thursday.\n",
      "\n",
      "The Westside Theater and Broome Hills hotel, which are both shared names, will also open before a second party, the same official Airbnb host.\n",
      "\n",
      "A small group of Houstonians and professional sports fanatics went back in time during sports sports broadcasts, golfing for 11 months and watching a Gotham Batman game.\n",
      "\n",
      "And with Houston DFNT2012 coming up now in Houston, something unusual is going on downtown when one of the ten new headquarters will move forward at the newly named Grace Center.\n",
      "\n",
      "If you think you need a domino, that would be the change.\n",
      "\n",
      "Hottest hotels in Denver; sprawling block of businesses\n",
      "\n",
      "Featured Gallery\n",
      "\n",
      "(00 Photos) (Registered?) - (Gif) ( )<|endoftext|>Application Requirements:\n",
      "\n",
      "Applicants must:\n",
      "\n",
      "Be a Registered Personal Representative (PCRM)\n",
      "\n",
      "Be a member of the certified drug testing and supervision organization (CASO)\n",
      "\n",
      "Be at least 16 years old\n",
      "\n",
      "Submit a valid U.S. resident identification • Benzodiazepine or Phenbodiazepine Addict Limited ID proof and 27 Item (Latent Deconograph) will substitute true identification for one (1)\n",
      "\n",
      "Link to photograph\n",
      "\n",
      "Mail Application\n",
      "\n",
      "Registration Argument:\n",
      "\n",
      "Who to address for step-by-step instructions on the application page?\n",
      "\n",
      "Please post a photo of all Certified Benefits Pharmacists on the\n",
      "================================================================================\n"
     ]
    },
    {
     "name": "stderr",
     "output_type": "stream",
     "text": [
      "100%|████████████████████████████████████████████████████████████████████████████████| 512/512 [00:18<00:00, 26.96it/s]\n"
     ]
    },
    {
     "name": "stdout",
     "output_type": "stream",
     "text": [
      "======================================== SAMPLE 1 ========================================\n",
      " a clicking noise and agonizing to block the 2,500 miles of illicit travel that is said to have taken its toll.\n",
      "\n",
      "\"After very close the alarm became so strong that his companions and even his rescuers kept waiting for him. It remains to be seen what happens to the next part of the post. Since others were with him, we hadn't even known we had something we could do to snare him.\"\n",
      "\n",
      "\n",
      "- Joalta Jones\n",
      "\n",
      "\n",
      "A chemical wreck on a retired Kuelam homestead is the most famous example of the lack of recovery following you and me body shaking 18 Roman Catholic nuns - the crew who disappeared when the 28/7 earthquake struck. It is also the third mass by a basketball team to skip winter quarters; it was the Nativity-time team to watch campaigning anti-nazi bands attend home events in Italy to avoid the floods and floods that gripped Italy and- from the Russian Diaspora. Paul Blash, reporter at the Sun. - Mary Martens\n",
      "\n",
      "El Goonish Shive Introductions Awesome new museums to visit\n",
      "\n",
      "New awards ceremony for self-concentrated beauty projects to keep physical service alive\n",
      "\n",
      "Motorcycles Play a pivotal role in Durban's rapid growing fine engineering industry and grow statewide in winter - a regular element in the local economy. Learn more and equip yourself to tap into (non)local entrepreneurship and at-risk Forest cycling - in one of the best efforts in Oslo's history.\n",
      "\n",
      "At the Odénjako State Park, Rivers Boat Team will meet Mr. Cobden who involved a pool deck crewmates who were heading ahead of a storm batting Gup... won $250,000. They include Mr. Pete Rand, Dutch or American group \"Giptobenaarrs\" or 'Giptobeneckners' - board boat refuels & creatures from Gipro engines pontoons and even painted brown porpoises (grass silvers). - Thomas Cowan\n",
      "\n",
      "Hey Chance Potion was christened 'Swurst's Conference' to enable hands on development for selfies, ESPN News, Consistency, Confidence & God Blessings of a new-age beard\n",
      "\n",
      "\n",
      "10 out of 1000 pointless speeches were written during the science WTCHam performance to tackle and fight technological delayBeing in the middle of it?? Summself, get ready for security checks at the 22nd Annual NASA:python1 conference.Started by Mark Riszewski, the RISE Platform created a security system\n",
      "================================================================================\n"
     ]
    },
    {
     "name": "stderr",
     "output_type": "stream",
     "text": [
      "100%|████████████████████████████████████████████████████████████████████████████████| 512/512 [00:19<00:00, 26.58it/s]\n"
     ]
    },
    {
     "name": "stdout",
     "output_type": "stream",
     "text": [
      "======================================== SAMPLE 1 ========================================\n",
      " sudden mind-purge and flesh-dlusting capability.\n",
      "\n",
      "All risked getting left behind. Science had imbedded a carer in his employer's support boat in 1983. The nurse was also well-aware of the intrusion of a performance-recorder mind. \"Were he to loop his head constantly across the whole poster, the prize panel would not blink,\" Kanode writes. \"He would snatch it again the next time he tried to do something with it, the winner would still be determined by the record.\"\n",
      "\n",
      "The cosmonaut was one of those people, every one of them to protect polite telescopic video supervision, telephone security or entrance to hospital wards, from being doubled over by overwhelming pressure.\n",
      "\n",
      "Alan Alda reshaped evolution to escape such the other-worldly pressures of Peter Crouch, an influential and firmly entrenched Martian playwright and campaigner for space exploration - modern science fiction writer\n",
      "\n",
      "Certainly users of the PR screen could not afford higher res portrayal on screen. Ellen told physicist Mat Smith in an email that the impossible to tell machine officers above their heads that a third lunar landing was beside the point was akin to hiding behind a tape measure.\n",
      "\n",
      "But the speed with which technology enriched British technology was mind-boggling. \"Given the astonishing technological sophistication of the first astronauts, with their ability to manage small telescopes and other in vitro monitoring facilities trained to display precise optical qualities, it is based upon the practice of delaying gratification,\" said Orfan Dow, executive director of the Mars Society.\n",
      "\n",
      "Shopmaster Charlie Hinsley readied his own 16-year run ofIFIC-certified CR. Like Hinsley from his youth on Mars, Engel was sure he'd seen through the numbers. The specialisation surrounds how we make the Breton metric in space. (by which Hinsley means more than double the distance between the Sun and the Moon.)\n",
      "\n",
      "The attitude was then in line with Freud's three principles of mind imbalance: run 50, run 50; and run 85, run 95. The fact that Engel deliberately delayed gratification by working hard nearly two years on a six-hour day led many researchers to believe the human pioneer, by 1970, would stand as a great achiever under these rules.\n",
      "\n",
      "The Atul Biswas identified an even more important, paradoxical paradox. Though there is evidence that Jim Bowie's faded relationship with beautiful women did not last long, so modern television footage shows him rodling dorksolly, so Star Trek beautifully\n",
      "================================================================================\n"
     ]
    },
    {
     "name": "stderr",
     "output_type": "stream",
     "text": [
      "100%|████████████████████████████████████████████████████████████████████████████████| 512/512 [00:18<00:00, 27.66it/s]\n"
     ]
    },
    {
     "name": "stdout",
     "output_type": "stream",
     "text": [
      "======================================== SAMPLE 1 ========================================\n",
      " bursts of orange in the Satellite's seamless control grid, ejecting from the station after 70 seconds. Just after 2:23 a.m., all the terrestrial reinforced bodies were inside the Control Room, buoyed up for another hundreds of ticks before racking their brains to double down. The world became the setting for the third spacewalk, with the only known observers travelling on the same platform.\n",
      "\n",
      "In order to discover the other space monkeys every three hours, CMS packed them in a specially modified code generator, propelling them through the primordial sea of 138 km in radius at speeds equivalent to gravity. Some of the 10,000 bidders about to embark on Hilded Condition took part for fun — nosex2 made geeks out of faeries. The most recent Hou-bao mockup was highly successful, using Haruffton Revenge radioactivity emitted from the Martian rain without any of the pesky solar flares of BICEP2. Carbon-based nanocarcinites were baked into nanoparticles sandwiched some due to its very small footprint the-science printer who'd made the faux-wealthy-not-cheaper learning kit. Another former subject,3024rogen, decommissioned MIT's photons season from previous projects and injected laboriously into my own minimal curved lead pen propelling by hard to the lunar silica, cooled nearby with the same metals as cats tilted noses. Other nanopropialic shuttles and the -1.8 kHz resolution beam has been sent in to bring us a breakfast of coruscating atoms into the living room.\n",
      "\n",
      "Don't make out product photos. Though mostly live animals, some are procedurally formed from crystalline aluminum plated hybrid wax fertilized by antioxidant versus chlorophyll drive, in the case of metals, I knew better. I passed along my medical journal days previously, but the mathematical class offering HCCM a development in thread designs using dormins had less hand-holding than I'd expected. I asked my Respubme industrial production teams, Eco-feed groups and mechanicalmiths, and that was the punt for the month of August. Others occupied creative space on paper sheets to deal with things that mattered — silicon and thermium for once — time and energy for one hour, Alberta cults for another for a week and a half, What's this computer built for? What could be done with a computer app that'd just disintegrate at your feet by noon? I did my best to pick between game designer jobs and garden art\n",
      "================================================================================\n"
     ]
    },
    {
     "name": "stderr",
     "output_type": "stream",
     "text": [
      "100%|████████████████████████████████████████████████████████████████████████████████| 512/512 [00:18<00:00, 27.36it/s]\n"
     ]
    },
    {
     "name": "stdout",
     "output_type": "stream",
     "text": [
      "======================================== SAMPLE 1 ========================================\n",
      " words like, \"But...Why didn't my end result tell me where you searched?\" He managed to escape but became very confused when his nan of optical color was lost and surrounded by pwntrz. He stumbled back into the fighter on board so-called second dorsal scan, a stereoscopic computer projector which then records data clearly at low frequencies with the highest quality joint of 60 nanometers for 2-digit renormalhen f (�nearly 70 Hz given a large scale chance interval of NO |]0.139 Hz. Vivid spinning monotone nuclei and coöhr cancelate out at 10 weeks. The object can be considered a prototype cryogenic confinement vessel. There is considerable interest there for such an adaptation to carry space engineering concepts and stringent arthroscopic order of action defects. One project calls for high-resolve binders for superior dynamic coupling between the light punnipotent Ti quasional of nucleus and the solid uranium Cu Fredo equator to reasonably stabilize in both of his scales-at-two successive digits. A problem comparing the simulation of detected creatures in spacetime tests of sustainable life is there to ensure that significant strain in both functions out-competers just high-res-capabilities forces. However, let us assume that the property of intrinsic nano-camouflage should be the same as what happens with large spreadar limit-impact modifications such as conventional skin-holes, with human surface surfaces patrolled by micropoles--Nano nubrvik colonies that are locally detectable, very dissimilar from each other as far distance as 0.0 of lee. Of course, an abnormal results in a high-dimensional sonar spectacle. An ambiguous fraction of approximately eighty thousand abominable cells are displayed on cut leads and phonemes such that things would take a few years to emerge fully properly \"exceptional\" reproduction-s, before low-velocity brutality would overflow the potentially exceptional body firing particle which infests this planet.\n",
      "Second dorsal scan presents correct results only if the Zahkov Mass Analysis has advanced sufficiently poor imaging direction directionally that the exterior surfaces are symbolically contained 80 mm from both external and peripherally present without color block deformations (Krimlin, 2004f). The actuation method not only avoids a major quirk of the structure, which is as yet unsolved. There is nothing unique about either test. Due to the inconvenient rotation in the results, the center figures of this test are projected around of Oriure\n",
      "================================================================================\n"
     ]
    },
    {
     "name": "stderr",
     "output_type": "stream",
     "text": [
      "100%|████████████████████████████████████████████████████████████████████████████████| 512/512 [00:19<00:00, 26.69it/s]\n"
     ]
    },
    {
     "name": "stdout",
     "output_type": "stream",
     "text": [
      "======================================== SAMPLE 1 ========================================\n",
      " her husband beautifully enough, wondering what all this had all come to. She pulled him to her collar to gasp at the idea that he needed it. He was six years older than she was, by then television producer, and her breasts were already resting on her chest at the very moment they brought what could only be described as an \"definition.\" I asked what it meant. A voice I'd never heard before said, \"Please don't lay down.\" TROPO: I was just burying him - here is a couple of bits of text I'll learn about him as I come back on this. And my first thoughts were to stand up, say they were nice photos, good job of putting up with that later on. Due to the way that they approached my whole plan with TCL at this point, the snap really was just what Marin from Hawkins Bagiy had wanted to put in his mind \"loardocks in babies\" and traipsed to loss. So let's move on.\" TOCUNCP: Okay, so in a way it was months of planning, be it work or learning, being near Memories and Damage. And unfortunately you passed my climactic dance class at Hashine in Uruguay, and needed to do yoga, every day, all day long; so there was this cool four-legged quilt I'd never used before, the dress hat I was not much of an toothe aficionado, but I thought was pretty neat, and this just in case. And now that I think about it, I think someone put at about 150 lbs me into this. TROPO: And that was really cool. The guy from Kine, Modesto, actually gave a good nod to me as a counselor where he offered me to look for help sitting saddle. TOCUNCP: Oh thanks man. ANDREW HARVEY: —dated. I guess at that time I was pretty cool, but had this Physical with Working memory syndrome (I guess at that point I was getting re-demanded since I rank between E-13 and leaving and never getting as much Rx left in the tank), so for what it's worth I felt emboldened to ever welcome pepperoni pizza. TROPO: Anyone working long hours recently literally replaced to produce lunch every day for my family, apparently I got aspirations to be posthumous, we worked hard at once, hat right. And now taking off plans for San Francisco in a situation where I meet a brilliant crossword face from Kansas and\n",
      "================================================================================\n"
     ]
    },
    {
     "name": "stderr",
     "output_type": "stream",
     "text": [
      "100%|████████████████████████████████████████████████████████████████████████████████| 512/512 [00:19<00:00, 25.91it/s]\n"
     ]
    },
    {
     "name": "stdout",
     "output_type": "stream",
     "text": [
      "======================================== SAMPLE 1 ========================================\n",
      " the presence of Officer Claudia Keizer, the tense constable who had entered the room with plenty of officers. Chriyanka shot Keizer using her cell phone.\n",
      "\n",
      "Delray was able to get in the back seat under the last officer and pass her. Keizer insisted that he went out of his way to show restraint with what he believed to be alcohol. After a heart attack and a bloodied stomach, Claudia had testified that that sort of thing shouldn't happen to anyone so casually, but what about Thierry's wife, Nadine? After an exchange of oral citations over matters that a federal judge ruled had no legal connotations, scarce as Claudia was by now, she now declared that the most important thing to do to Thierry's wife was to die alone.\n",
      "\n",
      "In other words, there was nothing weird about that sobbing thou mad in 1995.\n",
      "\n",
      "This little cut about the cops roaming about residential flats after Thierry had a bloodied stomach made it all the less certain that Bridget Carpenter's relentless quest for vengeance was simply one of survival — as (arguably) the single greatest decision in Irish national history.\n",
      "\n",
      "Vindication: It was possible Jonny was playing 'killers' today. The sleuth later claimed that else Nina had been responsible for the death and no one believed her to be dead.\n",
      "\n",
      "Mathew and outward : Heather was imploring his heir, Richard Clausen, to stop partying. Many artist of Mary Saint's fame had declared to acclaim. Fair cause, but tender cause. Though her asking law examiner had ruled to points complicated matters further, Lillian Litejohn went further w Burton Comal:\n",
      "\n",
      "Rowles Newell had been in reaction, and agreed to collect $250, not including bedroom accommodation. Ms Katharine Helena had run away to meet him and perhaps keep him from hiding. Keith Sadie was also looking, but delayed her introduction by to . . . two-by-one. Leolar Kelly had come and gone — as then stood issue of photographs having been taken before the supreme Court had never heard their objections publicly dealt with.\n",
      "\n",
      "(Source: Yatesch Conference File, Fri. St 1991 12-1-01, very close to oversight and shhipy production by Cheltenham Gym + College.)<|endoftext|>The latest Warhammer 40,000 hits launching on Thursday morning. Please note the latest data:\n",
      "\n",
      "November came too late for the hit Christmas.\n",
      "\n",
      "For any luck with this year's\n",
      "================================================================================\n"
     ]
    },
    {
     "name": "stderr",
     "output_type": "stream",
     "text": [
      "100%|████████████████████████████████████████████████████████████████████████████████| 512/512 [00:19<00:00, 26.55it/s]\n"
     ]
    },
    {
     "name": "stdout",
     "output_type": "stream",
     "text": [
      "======================================== SAMPLE 1 ========================================\n",
      " information obtained from the satellite imagery that the origin of the explosion was far more complicated than he had initially believed.\n",
      "\n",
      "Top scientists, including Tom Hardy, screen test and composite author John Michalak, manageizhe doctor Djaltey-Saadi, and women with brown eyes acted as medical monitors.\n",
      "\n",
      "The error caused only minor damage and believed to have led to a smoke grenade that appeared to change colour. But reheated radiation breached the electronic system, resulting in shallow fractures. The supercomputer now has to adapt to new requirements and tries to do what it is said it is allowed to.\n",
      "\n",
      "Three hours after assessments, the computer software dated from a recording, suspending early failure hours. It said: \"Resulting from containment 1. Mike Carter\" to be suitable to be back at the moment of impact.\n",
      "\n",
      "The simulator at Deep Space Nine's Jesse Hyper-Drive simulate flight in a vacuum environment and said it had failed. It still survived without resonance puncture. Meanwhile, melt water vapor from the explosion began to form in the vessel.\n",
      "\n",
      "Mermaids, Tom Hardy's young co-worker, who slumped against the computer boards, physically ran to stretcher, without grabbing any nutrients from the hard concrete slab to propel him over the finish line.\n",
      "\n",
      "One of the blisters in her arm's pocket, which mended badly, kept costuming the superintendent on by heaving her to save her life. But his effort didn't go unnoticed by the three astronauts who had been diagnosed as expecting an emergency but had switched teams to contact the surrounding 21,000 miles between payphones onboard the planet.\n",
      "\n",
      "Image caption Mischiefing: Sam Carter, Tom Hardy and Bill's son, was concerned they have no place to hang out | Brian Pearce Read more\n",
      "\n",
      "Two of Smolensky's 88 large computers at Deep Space Nine were transmitting the reports, and many were also monitoring data feed to Facebook, but the role of the mid-commissioners was hard to say, as they all were working for the same set of android comms.\n",
      "\n",
      "While acknowledging several delusional explanations went under the radar of the panel staff, others such as 29-year veteran Wilma Sims, described with the now-infamous JSF press statement Redeployment Mode as one of the easiest decisions and newfound peace of mind Davidson had made since leaving Deep Space Nine.\n",
      "\n",
      "\"Every piece of IBT information was correct,\" she said in separate interviews. \"And with block required isolation I\n",
      "================================================================================\n"
     ]
    },
    {
     "name": "stderr",
     "output_type": "stream",
     "text": [
      "100%|████████████████████████████████████████████████████████████████████████████████| 512/512 [00:19<00:00, 26.74it/s]\n"
     ]
    },
    {
     "name": "stdout",
     "output_type": "stream",
     "text": [
      "======================================== SAMPLE 1 ========================================\n",
      " a gift from his pregnant father, Kim Jong Il. He suffered immediate brain damage, according to Johannes Johannes Schäf. [The Mysterious Science Behind Dragon (in German)]\n",
      "\n",
      "Sleeping with and helping his dad with Nazi memorabilia\n",
      "\n",
      "Schäf took himself in less than a coffin up into their basement, three girls could scarcely stand it.\n",
      "\n",
      "And yet, as they read a text from a visiting Polish family friend, Kristina segued into wakefulness and from briefly touching it before finally being lifted to her feet, mesmerized by the drawings of this man in Polish trash: Hitler had been criticizing the Japanese Air Force during World War II for 40 years and reported that his Chinese men were not President Recep Tayyip Yoweri and lacked good leadership.\n",
      "\n",
      "And the drawing of Schäf, famed as Hitler's horns, coiled around him so that he could stare at the smiling sliver in his wartime uniform. (The lauded symbol is a reminder Australians in Racial Poleback Banning Day made it into Memorial Day celebrations from 2007 onwards.) Soon enough they would run into him at holiday celebrations and kiss and lick his ashes.\n",
      "\n",
      "Speaking from Seoul last October when Schäf had finally managed to make it home again after suffering more brain damage from the attack, Karen Blomen, 44, faced events that were starting to set in for her financial difficulties. Her father died a few days after the deadly attack so she had to move out, but given her position later, her husband would never assume Schäf would become pregnant.\n",
      "\n",
      "Men transferred to different men's clubs hosted by these older German men; her boom daughters left Schäf at the age of six of them; and it is thought her grandfather was favoured when they ended up being sent to open clubs of the Nachrichten. She had little choice but to follow.\n",
      "\n",
      "The US was its first teacher to be called into a Frankfurt dance fair; in 1922 young Kershner and his brothers laid down their lives for that club.\n",
      "\n",
      "And of course then revenues soared; in May 1923 Hans Hermansen, president of Motor Germany, a French firm, offered to build a private headquarters there. less But fighting its history battles and breaking ranks didn't drive more money nearly enough for results. Technically it wasn't worthwhile, but Hans Hermansen was about to lease it to a private company and nobled the work of grabbing the share holders by firing up his own trust. Finally, in May one of them came down with that\n",
      "================================================================================\n"
     ]
    },
    {
     "name": "stderr",
     "output_type": "stream",
     "text": [
      "100%|████████████████████████████████████████████████████████████████████████████████| 512/512 [00:19<00:00, 26.57it/s]\n"
     ]
    },
    {
     "name": "stdout",
     "output_type": "stream",
     "text": [
      "======================================== SAMPLE 1 ========================================\n",
      " several real-life stars, including five Violet Seaworth stars followed by another firm object (which was perhaps whistling away behind shot holes, but the baryon hadn't clearly hit the carpet very much). Eventually, everything was clear, but now the moon was July, and indeed, one of the spacecraft witnesses had just slammed itself into the surface of Saturn's lake of water, causing it all to slide down something in the next moment.\n",
      "\n",
      "At least he and his crew thought it was worth this much labor.\n",
      "\n",
      "Twenty minutes of crawling behind the lyre\n",
      "\n",
      "Another group (fifty or more in most cases) looked back at themselves. Colby Childs and their colleagues would be whittling down, smashing holes in the rubble and laughing their way through this discouraging galactic cycle as if the entire Futurama universe weren't amusing us at all. They'd been at it so long, in fact, that for the last twenty and a half years, it had come to this. It was so exciting. Holding the thrusters of the Enterprise rover up half-ravished and even bumping into the boggy wasteland of a cavern, they'd realisedperformed an astounding feat of human operations at as little as two rotations of gravity.\n",
      "\n",
      "Instead, one hand held the steering wheel - it was the weight of a Herculean task, But Cascading the right way. \"You're engineering an alien chartant, in the Noble House To a Time - you will bathe in machines.\n",
      "\n",
      "\n",
      "Negligible landing of the American-stargate RMS Enterprise 11D.\" Wikipedia\n",
      "\n",
      "Lock on survival of returning crew\n",
      "\n",
      "All of this had happened i.e. at the same time as the deflation in ship's orbit observed by idiotic x-ray recorders, which could only show just after reaching full orbit. That's because walkers did!! Indeed, the probability of maneuvering back towards Earth between shots biases the duration of the REBE campaign. In part this means an engine malfunction - what if the ground became twisted to their last and crucial degrees and a piece of turf fell on the side of the shuttle? This ship would get stuck to an axis in its trajectory which would take its runed arc by askew. Good Lord! Did that failure exhausted me. An Italian botanist certainly imagined the original sub-drone of a Su-27 hull model. \"The flight control protocol first had to be approved by Supervisor March, if the ledancer\n",
      "================================================================================\n"
     ]
    },
    {
     "name": "stderr",
     "output_type": "stream",
     "text": [
      "100%|████████████████████████████████████████████████████████████████████████████████| 512/512 [00:18<00:00, 27.41it/s]\n"
     ]
    },
    {
     "name": "stdout",
     "output_type": "stream",
     "text": [
      "======================================== SAMPLE 1 ========================================\n",
      " the swell of water thrown into his spirals and apparently dented by her forceful push. Congress blamed Jay Defekt — the president's deputy chief of staff who arrived on vacation with Jay back in Asia Friday night as a diplomatic gesture — and mostly the Air Force. On that day, Defekt backed up, flew a fixed route — down North Dakota to Taiwan — to arrive in time for the North Korean government's campus murder trial.\n",
      "\n",
      "With Hawaii facing next week's full moon, could Congress blame Jay?\n",
      "\n",
      "Congress has recognized the danger that religion can pose to military officials on America's intelligence gathering activities, and they have generally shrugged off the claims that they can turn political learning into advising.\n",
      "\n",
      "\"But the national security implications of his presence on our base were certainly,' said Senior Air Force aviation official John Davis, who flies regular exercises. 'We've seen Islamic State used to do battlefield intelligence to build propaganda for the Islamic State. I think that's just becoming more and more concerned with how that influence takes place.'\n",
      "\n",
      "Davis, who raced from Arizona to Chicago en route to Congressional Dulles, said over the last few weeks (including in a recent podcast interview with Homeland Security hawks on Capitol Hill), there had been apparently multiple skirmishes on intelligence.\n",
      "\n",
      "He said word from Pentagon officials was that an intercepted cell phone was found that show an electronic data link to the hostage Rodney King's cell number, and that one of the FBI's surveillance techniques had worked well — which is \"one of the biggest changes in U.S. surveillance in proportion to past counterterrorism successes\" — three weeks before King's claim to be about to be publicly exposed last week. When asked about that in a recent interview with any XXM radio-monitoring provider on Capitol Hill, which flew on Air Force One, Davis seemed to have no qualms about calling this.\n",
      "\n",
      "\"Yeah, I know what you're talking about,\" he said.\n",
      "\n",
      "Deltzer and other defense officials can assure the public that the whole idea behind revealing the alleged terrorists' codefendants is completely a political one.\n",
      "\n",
      "What, if anything, Had Trump Been Answered?\n",
      "\n",
      "Was it move after move? It was none of the more than a game of chicken.\n",
      "\n",
      "Only defending Trump from any-body is a long shot.\n",
      "\n",
      "Let's look closely at what can happen if — if — the CIA agents are caught for his suspicions.\n",
      "\n",
      "In April, Trump sent Booz Allen Hamilton officials a\n",
      "================================================================================\n"
     ]
    },
    {
     "name": "stderr",
     "output_type": "stream",
     "text": [
      "100%|████████████████████████████████████████████████████████████████████████████████| 512/512 [00:18<00:00, 27.20it/s]\n"
     ]
    },
    {
     "name": "stdout",
     "output_type": "stream",
     "text": [
      "======================================== SAMPLE 1 ========================================\n",
      " his seven-addled girlfriend and the fact that she wanted to pick him up from like-minded classmates. Confused and confused, he resolved to contact Athena on her phone.\n",
      "\n",
      "And by noon on August 15, Athena, wearing a matching electric blue robe fashioned from the back of a chain, claimed the new-found attention from the college space officer, Mr. Von Baneheim. Arumphreet.com. \"It's taken me just a few minutes and it just kind of felt like I was in a huge room with so many weird things running through and a long list of impossible possibilities,\" he says.\n",
      "\n",
      "Altogether, the rogue pharmacy and radiation technician used physical exertion, agility and brochures painted \"Rejection Girl\" by Baumeister (which is quite impressive because he spent weeks as a shadowy facsimile of Dr. Jekyll canker) in order to latch on to his previously undisclosed personal base in nearby Lowell, Boston, and immediately think about the close-working psyche-in-a-begotten factory. Doing so, he joined as a normal student at Maurisse Academy living next door to Cape Cod State College Neuilly.\n",
      "\n",
      "For years, Maurisse doesn't have its own alpha male college environment, or safe spaces. The factory is home to an apparently Xmas variety of homeless adults and LGBTQ students in specially engineered cots and two locker rooms incubators. They made their lives happy although, apparently, by overwintering a couple of TV cameras at night instead of flying through them to hopefully be low-key effortlessly, and upended everything. Several of the students feel they are setting a trap when they suddenly find themselves scouring out a new bedroom alienati crisis room, and they can't go outside like Viveauke would have. And eight out of 10 students simply don't feel lucky that there's a 24-hour light bulb on campus; but they'd rather have daylight than hard fucking electrocution.\n",
      "\n",
      "\"I was brought up not being able to sleep on my own – I feel like me and other trans students are literally struggling to move disrespectfully,\" Maurisse alumrakpia quayly wrote in an Aphrodite submissions post for anachronistic comic he titled Hard Signs. \"Is that that internet fuckin' thing just gonna hang itself canning around in this all-day STREAMYING fucking environment? Drizzly when i go out and get a beer when other trans students are bare hankering for an organic beer with\n",
      "================================================================================\n"
     ]
    },
    {
     "name": "stderr",
     "output_type": "stream",
     "text": [
      "100%|████████████████████████████████████████████████████████████████████████████████| 512/512 [00:18<00:00, 27.32it/s]\n"
     ]
    },
    {
     "name": "stdout",
     "output_type": "stream",
     "text": [
      "======================================== SAMPLE 1 ========================================\n",
      " his seemingly unlimited natural stimulation. \"God forbid he'd break my cellcare,\" he told us, noting that he now did. (Not as much as he once did, of course; Fuller was too busy working on his bible work to use the word of God.) Brady was 10 years old. The story of his misadventures is told in the novel of Lulo, which vividly shows exactly how the titular character, at age 10, encountered basic sexual anxieties (never mind \"losing a marriage is not love,\" the story parodies); it informs most of our hypothetical blurbs, including the president's demanding announcement that Russia has violated its nuclear agreement with the United States (\"the United States will donate excess fuel to building new Russian nuclear increases rather than using the Cosmodrome as a testbed for nuclear war to build nuclear bombs and weaponry as combined industrial production equipment intended for lease equipment to states that spend twice the national budget on the maintenance and refurbishment of these installations, including federal government and private contractors,\" yet he was still about to call in a loyalty order shift at the stake that was due, it must be acknowledged, back with the guillotine), nothing but shame and a little discomfort.\n",
      "\n",
      "He never was. To be sure, an unexpected chance along the way opened the door for Brady to return—he came to visit his mom six months later. He went away with him, was separated from his journey star, and soon American feminists were living a lavish new life in what was then a 10 hour metro train, sharing reclaimed personal property as well as flat-screen televisions and s'morous fetish bras. A few years later, at 21, he met and slashed my body, bruising my head, deadening my chest through the full city of an Illinois community similar to what a prime serial killer would exploit. Brady didn't fancy sex. Nor did Crabtree. Yet when every words were asked these days, the question was not why they and porn would inevitably be online. It was: would someone fuck my body again, risking death and/or dismemberment to bequeath myself to someone who might?\n",
      "\n",
      "The purported physical blemish on the Brady profiles helped Poe campers who \"fucked or believed that way\" right before customers streamed back on the Internet. Indeed, the image dismissively portrayed the biological adversity that still persists thanks to porn's relentless exploitation of doppelgängers—killer addicts who fantasize horrifyingly about randomly, cum-referred injection machines, programmed\n",
      "================================================================================\n"
     ]
    },
    {
     "name": "stderr",
     "output_type": "stream",
     "text": [
      "100%|████████████████████████████████████████████████████████████████████████████████| 512/512 [00:18<00:00, 27.72it/s]\n"
     ]
    },
    {
     "name": "stdout",
     "output_type": "stream",
     "text": [
      "======================================== SAMPLE 1 ========================================\n",
      " cowering dishes and bewildered upon seeing firefighters' guns blazing on a flooded post office control room. He was put on the brink of screaming into the air: \"There's God! God is dead!\"\n",
      "\n",
      "Terrified, Tily appropriated his own last post, telling his captors, \"I am so\n",
      "\n",
      "awake today you are watching please don't worry about firecrackers.. Please don't worry about explosives.. Please tell your\n",
      "\n",
      "chic team that it's more about security than safety. Stand up for not faxing, driving,\n",
      "\n",
      "child-killing things to family.. tell why/what to send to gun fire reporting Joe brave guy a no stop till comps are delivered so no problem restart\n",
      "\n",
      "and empathy if Will thinking he's on a collision course and this is stupid does not jibe with what his life is passing by after 2 years in crime he is 20 they never got maybe it's time you got a radio cave you made it so your wife is even sad if you step\n",
      "\n",
      "up you didn't mob test you beautiful stepmom. please bring Rungaiah here to solve one big\n",
      "\n",
      "complication. which has now up and Brown dismissed Tily while the firefighter was testifying. Brown pointed out that Mr Forrest had NO idea about fuel prescribing.\n",
      "\n",
      "Burnout\n",
      "\n",
      "\n",
      "Nobody knew what was up besides the hellstorm. Al Gore and blue state Republican John McCain blamed even the worst Don't Ask Don't Tell warnings, AMERICANS and OBAMA.\n",
      "\n",
      "THE CHALLENGE TO THE END was Louisiana Governor Doc Rivers demands that Arkansas recapture all of the 18 Virginia names due to torture. Fifteen of the state's 20 counties line evidentiary set points on external GPS monitoring. Washington is offering to pay three months of a $250,000 reward for information leading to completion of the case. He has told that he found in $100,000 the money to pay repayment in advance of local $5,500 checks. Jake Ramadan of Roanoke generated $180,000 to cover all the Barker-interview expenses and more. Acting Deputy Attorney General Harvey O'Malley (an émigré of Judge Smith) now informs of urgent e-mails sent to Tustin Tustin's twitter account states \"I am proposing as if this never happened already we were being detained at\n",
      "\n",
      "Central L.A. hangar. point 5 we were always detained at deployment croylicine on construction/figures and being released from\n",
      "================================================================================\n"
     ]
    },
    {
     "name": "stderr",
     "output_type": "stream",
     "text": [
      "100%|████████████████████████████████████████████████████████████████████████████████| 512/512 [00:18<00:00, 27.63it/s]\n"
     ]
    },
    {
     "name": "stdout",
     "output_type": "stream",
     "text": [
      "======================================== SAMPLE 1 ========================================\n",
      " a sprint of rocks flashing around its surroundings.\n",
      "\n",
      "Almost two weeks ago, Kirk suffered a comfortable, warming up.\n",
      "\n",
      "He and two other cosmonauts began to rest, rest, rest. They'll arrive at starbase Ochs, or base Och 0409 in the Bad Santa Esta area of Spanish Southern California. A normal system is able to synchronise between two other astronauts, and the London team used a new system, known as Cross Linear, which operates on heat transfer, as the basis for this multi-flight system.\n",
      "\n",
      "Because an external sensor is used to mirror some of the radiation carried in the spacecraft and perform the fundamental normal procedures for calibrating readings, the body generates substantially higher emissions than operating in an orbital moon. It is also able to scale hull and butler analyses.\n",
      "\n",
      "Upstream there lies an ORAC, including the International Space Station and the CRS recorded in welcomed by scientists.\n",
      "\n",
      "The team used dedicated Logr climbers for data collection.\n",
      "\n",
      "The results come from The Astrophysical Journal and 24 years after their Neil Armstrong landing. They confirm Sir Neil Armstrong left the Space Shuttle early with no human onboard.\n",
      "\n",
      "\n",
      "He's the fourth LSO to fall in the last two years after a meteor, this one in 1968. Boeing Home Space Branch's (Bhopal Airlines') 105 sales executives were in Israel for the black quarter in the Expo Committee to spot Scots who were smoking marijuana on the deck of Scott Air Force One as they pulled in another customer six hours later. Word was spreading at the Long November Club in Golden's plateau city of Adirondack that tablets are being manufactured for the annual NAIAS from Ambrose Heavy Industries - a Melbourne heavy equipment manufacturer whose work is closely tied with British Olympic politics dozens of times over.\n",
      "\n",
      "\n",
      "There continued to be calls about Vancouver light rails not being readily available in Vancouver until the minimum required speed had been met. Some Vancouver Light/DLR bicycle cops sent Cronin Elliott, the Los Angeles Light Train DOT brand ambassador, to Inequalities Travel + Lane to check prices of laned stoplights. And the good folks at PrivateGarage's Nike Legal did in fact publicize a design submitted to a potential exclusive loop of \"12 service centres in Vancouver for delivery to Mark Cameron Square\" in western Victoria with regard to different skateboarding locations.\n",
      "\n",
      "Two kilograms of pure Canadian hemp was placed into containers at Alt Deer Ranch in Grandma's Bend where they experimented with a recently developed chocolate many times their intended\n",
      "================================================================================\n"
     ]
    },
    {
     "name": "stderr",
     "output_type": "stream",
     "text": [
      "100%|████████████████████████████████████████████████████████████████████████████████| 512/512 [00:18<00:00, 27.33it/s]\n"
     ]
    },
    {
     "name": "stdout",
     "output_type": "stream",
     "text": [
      "======================================== SAMPLE 1 ========================================\n",
      " his safety problems and falling into the sea. His situation had not changed for awhile, he denied reports that he was writing a strange symbolic paper on his room, and said that after his sleep, he saw a woman he had barely stepped on before, and he knew her name. Then he rushed into the house to persuade her to give him another name, and that was that. (It wasn't obvious to him that he was inviting another woman to depart suppression orders)\n",
      "\n",
      "What was less clear was the fact that his experience suggested how far he had fallen behind in travel reported in the NWOC.\n",
      "\n",
      "FOR A much more detailed view of the bizarre summer in Ussher, near Kuala Lumpur on 4 May 2006, see Contradiction, the most pertinent article in the book Alone in Your Hands: Trails of Fire in its Winter Denim.\n",
      "\n",
      "The story expressed above, such as the Egyptian calendar with Sun, Moon and Stars, would not be mentioned in Smith's novel. Charles Hargrove, a historian, provided an up-to-close glimpse. He notes that 'national lore about \"Spine of a Spaceman\" had a similar mythological context:\n",
      "\n",
      "Men met in Sicily during seventeen years of resistance by partisans to circumcision… [Scones were] captained by witches and took real lives, escaping in numerous styles and perspective, to pass their life for odds and ends.\n",
      "\n",
      "Karl Joseph, who was in charge of twenty-four world wars, was an adherent of Ellison's religious belief. In fact, a literary reference to those close to him, according to Stefan Severag, has led many to argue that the Islamic calendar used Karl Joseph's religion-glorified approach with both Pisani (Matithsprimate) and XIZ/Publicate. In a 1928 article in National Geographic, Robert M. Smith and Erik Burgess (Smith and Burgess, 1997) present an example of someone baptized leading by a Demigod, representing a general reformationist shekh (a man-eating disease).\n",
      "\n",
      "There was a controversy explored in the '60s in English greenhouse cages (back then crew members of Jeeps, North Carolina plants harvested from the hamburgers of shrimp in North Carolina pre-mised). At one point, a reader (by name Bonnie Hoell) writes as follows: \"Why is the greenhouse?\"<|endoftext|>The antique iron masons canotons on the mounds set in Ragbon Duke House at the flip joint of Windsor Lucas Drive. The\n",
      "================================================================================\n"
     ]
    },
    {
     "name": "stderr",
     "output_type": "stream",
     "text": [
      "100%|████████████████████████████████████████████████████████████████████████████████| 512/512 [00:20<00:00, 25.58it/s]\n"
     ]
    },
    {
     "name": "stdout",
     "output_type": "stream",
     "text": [
      "======================================== SAMPLE 1 ========================================\n",
      " a steep snowfall nailing the skis with swishing knives, the snow check point was snapped and Cabot questioned by his neighbour to see if the person was breathing. Then while Cabot was in a truck frantically working on the patch of ice, an officer sent his car sideways into the snow, placing the skate prototype on the water's edge, which protected it from harm to Ulysses.\n",
      "\n",
      "When two police officers arrived at 9:30 looking for a suspect, the lateral effects of the combination of unceasing warm weather forces doctors to interrupt his breathing routine to check for blood. Unlike the Christian Christian Association and Reconstruct Home issued short stocking pulledings and versions of the life jackets with improvised, lockable straps for getting out of the snow, medical tents for large supplies of dried injured tissue next door, remote medical tents in the shed and the four babies living on their own—every remaining activist/mass-murdering permafrost patch is so blatantly murder-ridden that their parachutist experience can hardly result bonus footage). \"Possible criminals were going in through the side doors,\" wrote Synon Macduffard Hunter outside the clinic, \"but Trevor had not luggage on him. There were car escapees and a backpack with high speed crockery and tons of items hiding individually inside. Some of Trevor's shots were shot on the spot. Was it helicopters?\"\n",
      "\n",
      "Prepared appropriately to simulate the extreme experience of the past, post-disaster rehabilitative coach established on occasion to architect, interpret and strategize the mental discipline planetmates experience must nevertheless ensure continued safety and that those already surviving may not suffer the same. \"Neutron catastrophe has combined my wish and fear,\" remember Skull friend Jackie Troth. \"When the [Canada Project for Education for College Development] last produced an interactive system that spliced two years of dark-information and attempted suicide advice together with a detailed and concise book, I knew my best hope would be to make as many noissages as possible without violating the safety and scientific-practical principles of life on hits and misses.\" The same might be said for feelings of disappointed cold-water climbers grappling with the most stressful lows. Chery Sinclair observer Carrie Campbell-Winker was all she ever wanted, having to ask every desperate detached loner on Vancouver Island not to fatally throw a package narrowly dodged for purposes for nowhere else. So too, for the lovers of science and science fiction writing that, on most cosmic emergencies, fearing taking a chill out of their\n",
      "================================================================================\n"
     ]
    },
    {
     "name": "stderr",
     "output_type": "stream",
     "text": [
      " 24%|███████████████████▏                                                            | 123/512 [00:04<00:14, 26.75it/s]\n"
     ]
    },
    {
     "ename": "KeyboardInterrupt",
     "evalue": "",
     "output_type": "error",
     "traceback": [
      "\u001b[1;31m---------------------------------------------------------------------------\u001b[0m",
      "\u001b[1;31mKeyboardInterrupt\u001b[0m                         Traceback (most recent call last)",
      "\u001b[1;32m<ipython-input-30-118c94cd2c79>\u001b[0m in \u001b[0;36m<module>\u001b[1;34m\u001b[0m\n\u001b[1;32m----> 1\u001b[1;33m \u001b[0mrun_model\u001b[0m\u001b[1;33m(\u001b[0m\u001b[1;34m\"It was nearly two weeks later when the cosmonaut was jolted out of sleep, jolted by\"\u001b[0m\u001b[1;33m)\u001b[0m\u001b[1;33m\u001b[0m\u001b[0m\n\u001b[0m",
      "\u001b[1;32m<ipython-input-29-69e99ef6ee57>\u001b[0m in \u001b[0;36mrun_model\u001b[1;34m(input_text, length, nsamples, batch_size, temperature, top_k, seed)\u001b[0m\n\u001b[0;32m     29\u001b[0m                     \u001b[0mstart_token\u001b[0m\u001b[1;33m=\u001b[0m\u001b[1;32mNone\u001b[0m\u001b[1;33m,\u001b[0m\u001b[1;33m\u001b[0m\u001b[0m\n\u001b[0;32m     30\u001b[0m                     \u001b[0mbatch_size\u001b[0m\u001b[1;33m=\u001b[0m\u001b[0mbatch_size\u001b[0m\u001b[1;33m,\u001b[0m\u001b[1;33m\u001b[0m\u001b[0m\n\u001b[1;32m---> 31\u001b[1;33m                     \u001b[0mtemperature\u001b[0m\u001b[1;33m=\u001b[0m\u001b[0mtemperature\u001b[0m\u001b[1;33m,\u001b[0m \u001b[0mtop_k\u001b[0m\u001b[1;33m=\u001b[0m\u001b[0mtop_k\u001b[0m\u001b[1;33m,\u001b[0m \u001b[0mdevice\u001b[0m\u001b[1;33m=\u001b[0m\u001b[0mdevice\u001b[0m\u001b[1;33m\u001b[0m\u001b[0m\n\u001b[0m\u001b[0;32m     32\u001b[0m                 )\n\u001b[0;32m     33\u001b[0m                 \u001b[0mout\u001b[0m \u001b[1;33m=\u001b[0m \u001b[0mout\u001b[0m\u001b[1;33m[\u001b[0m\u001b[1;33m:\u001b[0m\u001b[1;33m,\u001b[0m \u001b[0mlen\u001b[0m\u001b[1;33m(\u001b[0m\u001b[0mcontext_tokens\u001b[0m\u001b[1;33m)\u001b[0m\u001b[1;33m:\u001b[0m\u001b[1;33m]\u001b[0m\u001b[1;33m.\u001b[0m\u001b[0mtolist\u001b[0m\u001b[1;33m(\u001b[0m\u001b[1;33m)\u001b[0m\u001b[1;33m\u001b[0m\u001b[0m\n",
      "\u001b[1;32m<ipython-input-28-e568e7179842>\u001b[0m in \u001b[0;36msample_sequence\u001b[1;34m(model, length, start_token, batch_size, context, temperature, top_k, device, sample)\u001b[0m\n\u001b[0;32m     11\u001b[0m     \u001b[1;32mwith\u001b[0m \u001b[0mtorch\u001b[0m\u001b[1;33m.\u001b[0m\u001b[0mno_grad\u001b[0m\u001b[1;33m(\u001b[0m\u001b[1;33m)\u001b[0m\u001b[1;33m:\u001b[0m\u001b[1;33m\u001b[0m\u001b[0m\n\u001b[0;32m     12\u001b[0m         \u001b[1;32mfor\u001b[0m \u001b[0mi\u001b[0m \u001b[1;32min\u001b[0m \u001b[0mtrange\u001b[0m\u001b[1;33m(\u001b[0m\u001b[0mlength\u001b[0m\u001b[1;33m)\u001b[0m\u001b[1;33m:\u001b[0m\u001b[1;33m\u001b[0m\u001b[0m\n\u001b[1;32m---> 13\u001b[1;33m             \u001b[0mlogits\u001b[0m\u001b[1;33m,\u001b[0m \u001b[0mpast\u001b[0m \u001b[1;33m=\u001b[0m \u001b[0mmodel\u001b[0m\u001b[1;33m(\u001b[0m\u001b[0mprev\u001b[0m\u001b[1;33m,\u001b[0m \u001b[0mpast\u001b[0m\u001b[1;33m=\u001b[0m\u001b[0mpast\u001b[0m\u001b[1;33m)\u001b[0m\u001b[1;33m\u001b[0m\u001b[0m\n\u001b[0m\u001b[0;32m     14\u001b[0m             \u001b[0mlogits\u001b[0m \u001b[1;33m=\u001b[0m \u001b[0mlogits\u001b[0m\u001b[1;33m[\u001b[0m\u001b[1;33m:\u001b[0m\u001b[1;33m,\u001b[0m \u001b[1;33m-\u001b[0m\u001b[1;36m1\u001b[0m\u001b[1;33m,\u001b[0m \u001b[1;33m:\u001b[0m\u001b[1;33m]\u001b[0m \u001b[1;33m/\u001b[0m \u001b[0mtemperature\u001b[0m\u001b[1;33m\u001b[0m\u001b[0m\n\u001b[0;32m     15\u001b[0m             \u001b[0mlogits\u001b[0m \u001b[1;33m=\u001b[0m \u001b[0mtop_k_logits\u001b[0m\u001b[1;33m(\u001b[0m\u001b[0mlogits\u001b[0m\u001b[1;33m,\u001b[0m \u001b[0mk\u001b[0m\u001b[1;33m=\u001b[0m\u001b[0mtop_k\u001b[0m\u001b[1;33m)\u001b[0m\u001b[1;33m\u001b[0m\u001b[0m\n",
      "\u001b[1;32m~\\Anaconda3\\envs\\futuremag\\lib\\site-packages\\torch\\nn\\modules\\module.py\u001b[0m in \u001b[0;36m__call__\u001b[1;34m(self, *input, **kwargs)\u001b[0m\n\u001b[0;32m    491\u001b[0m             \u001b[0mresult\u001b[0m \u001b[1;33m=\u001b[0m \u001b[0mself\u001b[0m\u001b[1;33m.\u001b[0m\u001b[0m_slow_forward\u001b[0m\u001b[1;33m(\u001b[0m\u001b[1;33m*\u001b[0m\u001b[0minput\u001b[0m\u001b[1;33m,\u001b[0m \u001b[1;33m**\u001b[0m\u001b[0mkwargs\u001b[0m\u001b[1;33m)\u001b[0m\u001b[1;33m\u001b[0m\u001b[0m\n\u001b[0;32m    492\u001b[0m         \u001b[1;32melse\u001b[0m\u001b[1;33m:\u001b[0m\u001b[1;33m\u001b[0m\u001b[0m\n\u001b[1;32m--> 493\u001b[1;33m             \u001b[0mresult\u001b[0m \u001b[1;33m=\u001b[0m \u001b[0mself\u001b[0m\u001b[1;33m.\u001b[0m\u001b[0mforward\u001b[0m\u001b[1;33m(\u001b[0m\u001b[1;33m*\u001b[0m\u001b[0minput\u001b[0m\u001b[1;33m,\u001b[0m \u001b[1;33m**\u001b[0m\u001b[0mkwargs\u001b[0m\u001b[1;33m)\u001b[0m\u001b[1;33m\u001b[0m\u001b[0m\n\u001b[0m\u001b[0;32m    494\u001b[0m         \u001b[1;32mfor\u001b[0m \u001b[0mhook\u001b[0m \u001b[1;32min\u001b[0m \u001b[0mself\u001b[0m\u001b[1;33m.\u001b[0m\u001b[0m_forward_hooks\u001b[0m\u001b[1;33m.\u001b[0m\u001b[0mvalues\u001b[0m\u001b[1;33m(\u001b[0m\u001b[1;33m)\u001b[0m\u001b[1;33m:\u001b[0m\u001b[1;33m\u001b[0m\u001b[0m\n\u001b[0;32m    495\u001b[0m             \u001b[0mhook_result\u001b[0m \u001b[1;33m=\u001b[0m \u001b[0mhook\u001b[0m\u001b[1;33m(\u001b[0m\u001b[0mself\u001b[0m\u001b[1;33m,\u001b[0m \u001b[0minput\u001b[0m\u001b[1;33m,\u001b[0m \u001b[0mresult\u001b[0m\u001b[1;33m)\u001b[0m\u001b[1;33m\u001b[0m\u001b[0m\n",
      "\u001b[1;32m~\\Anaconda3\\envs\\futuremag\\lib\\site-packages\\pytorch_pretrained_bert\\modeling_gpt2.py\u001b[0m in \u001b[0;36mforward\u001b[1;34m(self, input_ids, position_ids, token_type_ids, lm_labels, past)\u001b[0m\n\u001b[0;32m    617\u001b[0m \u001b[1;33m\u001b[0m\u001b[0m\n\u001b[0;32m    618\u001b[0m     \u001b[1;32mdef\u001b[0m \u001b[0mforward\u001b[0m\u001b[1;33m(\u001b[0m\u001b[0mself\u001b[0m\u001b[1;33m,\u001b[0m \u001b[0minput_ids\u001b[0m\u001b[1;33m,\u001b[0m \u001b[0mposition_ids\u001b[0m\u001b[1;33m=\u001b[0m\u001b[1;32mNone\u001b[0m\u001b[1;33m,\u001b[0m \u001b[0mtoken_type_ids\u001b[0m\u001b[1;33m=\u001b[0m\u001b[1;32mNone\u001b[0m\u001b[1;33m,\u001b[0m \u001b[0mlm_labels\u001b[0m\u001b[1;33m=\u001b[0m\u001b[1;32mNone\u001b[0m\u001b[1;33m,\u001b[0m \u001b[0mpast\u001b[0m\u001b[1;33m=\u001b[0m\u001b[1;32mNone\u001b[0m\u001b[1;33m)\u001b[0m\u001b[1;33m:\u001b[0m\u001b[1;33m\u001b[0m\u001b[0m\n\u001b[1;32m--> 619\u001b[1;33m         \u001b[0mhidden_states\u001b[0m\u001b[1;33m,\u001b[0m \u001b[0mpresents\u001b[0m \u001b[1;33m=\u001b[0m \u001b[0mself\u001b[0m\u001b[1;33m.\u001b[0m\u001b[0mtransformer\u001b[0m\u001b[1;33m(\u001b[0m\u001b[0minput_ids\u001b[0m\u001b[1;33m,\u001b[0m \u001b[0mposition_ids\u001b[0m\u001b[1;33m,\u001b[0m \u001b[0mtoken_type_ids\u001b[0m\u001b[1;33m,\u001b[0m \u001b[0mpast\u001b[0m\u001b[1;33m)\u001b[0m\u001b[1;33m\u001b[0m\u001b[0m\n\u001b[0m\u001b[0;32m    620\u001b[0m         \u001b[0mlm_logits\u001b[0m \u001b[1;33m=\u001b[0m \u001b[0mself\u001b[0m\u001b[1;33m.\u001b[0m\u001b[0mlm_head\u001b[0m\u001b[1;33m(\u001b[0m\u001b[0mhidden_states\u001b[0m\u001b[1;33m)\u001b[0m\u001b[1;33m\u001b[0m\u001b[0m\n\u001b[0;32m    621\u001b[0m         \u001b[1;32mif\u001b[0m \u001b[0mlm_labels\u001b[0m \u001b[1;32mis\u001b[0m \u001b[1;32mnot\u001b[0m \u001b[1;32mNone\u001b[0m\u001b[1;33m:\u001b[0m\u001b[1;33m\u001b[0m\u001b[0m\n",
      "\u001b[1;32m~\\Anaconda3\\envs\\futuremag\\lib\\site-packages\\torch\\nn\\modules\\module.py\u001b[0m in \u001b[0;36m__call__\u001b[1;34m(self, *input, **kwargs)\u001b[0m\n\u001b[0;32m    491\u001b[0m             \u001b[0mresult\u001b[0m \u001b[1;33m=\u001b[0m \u001b[0mself\u001b[0m\u001b[1;33m.\u001b[0m\u001b[0m_slow_forward\u001b[0m\u001b[1;33m(\u001b[0m\u001b[1;33m*\u001b[0m\u001b[0minput\u001b[0m\u001b[1;33m,\u001b[0m \u001b[1;33m**\u001b[0m\u001b[0mkwargs\u001b[0m\u001b[1;33m)\u001b[0m\u001b[1;33m\u001b[0m\u001b[0m\n\u001b[0;32m    492\u001b[0m         \u001b[1;32melse\u001b[0m\u001b[1;33m:\u001b[0m\u001b[1;33m\u001b[0m\u001b[0m\n\u001b[1;32m--> 493\u001b[1;33m             \u001b[0mresult\u001b[0m \u001b[1;33m=\u001b[0m \u001b[0mself\u001b[0m\u001b[1;33m.\u001b[0m\u001b[0mforward\u001b[0m\u001b[1;33m(\u001b[0m\u001b[1;33m*\u001b[0m\u001b[0minput\u001b[0m\u001b[1;33m,\u001b[0m \u001b[1;33m**\u001b[0m\u001b[0mkwargs\u001b[0m\u001b[1;33m)\u001b[0m\u001b[1;33m\u001b[0m\u001b[0m\n\u001b[0m\u001b[0;32m    494\u001b[0m         \u001b[1;32mfor\u001b[0m \u001b[0mhook\u001b[0m \u001b[1;32min\u001b[0m \u001b[0mself\u001b[0m\u001b[1;33m.\u001b[0m\u001b[0m_forward_hooks\u001b[0m\u001b[1;33m.\u001b[0m\u001b[0mvalues\u001b[0m\u001b[1;33m(\u001b[0m\u001b[1;33m)\u001b[0m\u001b[1;33m:\u001b[0m\u001b[1;33m\u001b[0m\u001b[0m\n\u001b[0;32m    495\u001b[0m             \u001b[0mhook_result\u001b[0m \u001b[1;33m=\u001b[0m \u001b[0mhook\u001b[0m\u001b[1;33m(\u001b[0m\u001b[0mself\u001b[0m\u001b[1;33m,\u001b[0m \u001b[0minput\u001b[0m\u001b[1;33m,\u001b[0m \u001b[0mresult\u001b[0m\u001b[1;33m)\u001b[0m\u001b[1;33m\u001b[0m\u001b[0m\n",
      "\u001b[1;32m~\\Anaconda3\\envs\\futuremag\\lib\\site-packages\\pytorch_pretrained_bert\\modeling_gpt2.py\u001b[0m in \u001b[0;36mforward\u001b[1;34m(self, input_ids, position_ids, token_type_ids, past)\u001b[0m\n\u001b[0;32m    554\u001b[0m         \u001b[0mpresents\u001b[0m \u001b[1;33m=\u001b[0m \u001b[1;33m[\u001b[0m\u001b[1;33m]\u001b[0m\u001b[1;33m\u001b[0m\u001b[0m\n\u001b[0;32m    555\u001b[0m         \u001b[1;32mfor\u001b[0m \u001b[0mblock\u001b[0m\u001b[1;33m,\u001b[0m \u001b[0mlayer_past\u001b[0m \u001b[1;32min\u001b[0m \u001b[0mzip\u001b[0m\u001b[1;33m(\u001b[0m\u001b[0mself\u001b[0m\u001b[1;33m.\u001b[0m\u001b[0mh\u001b[0m\u001b[1;33m,\u001b[0m \u001b[0mpast\u001b[0m\u001b[1;33m)\u001b[0m\u001b[1;33m:\u001b[0m\u001b[1;33m\u001b[0m\u001b[0m\n\u001b[1;32m--> 556\u001b[1;33m             \u001b[0mhidden_states\u001b[0m\u001b[1;33m,\u001b[0m \u001b[0mpresent\u001b[0m \u001b[1;33m=\u001b[0m \u001b[0mblock\u001b[0m\u001b[1;33m(\u001b[0m\u001b[0mhidden_states\u001b[0m\u001b[1;33m,\u001b[0m \u001b[0mlayer_past\u001b[0m\u001b[1;33m)\u001b[0m\u001b[1;33m\u001b[0m\u001b[0m\n\u001b[0m\u001b[0;32m    557\u001b[0m             \u001b[0mpresents\u001b[0m\u001b[1;33m.\u001b[0m\u001b[0mappend\u001b[0m\u001b[1;33m(\u001b[0m\u001b[0mpresent\u001b[0m\u001b[1;33m)\u001b[0m\u001b[1;33m\u001b[0m\u001b[0m\n\u001b[0;32m    558\u001b[0m         \u001b[0mhidden_states\u001b[0m \u001b[1;33m=\u001b[0m \u001b[0mself\u001b[0m\u001b[1;33m.\u001b[0m\u001b[0mln_f\u001b[0m\u001b[1;33m(\u001b[0m\u001b[0mhidden_states\u001b[0m\u001b[1;33m)\u001b[0m\u001b[1;33m\u001b[0m\u001b[0m\n",
      "\u001b[1;32m~\\Anaconda3\\envs\\futuremag\\lib\\site-packages\\torch\\nn\\modules\\module.py\u001b[0m in \u001b[0;36m__call__\u001b[1;34m(self, *input, **kwargs)\u001b[0m\n\u001b[0;32m    491\u001b[0m             \u001b[0mresult\u001b[0m \u001b[1;33m=\u001b[0m \u001b[0mself\u001b[0m\u001b[1;33m.\u001b[0m\u001b[0m_slow_forward\u001b[0m\u001b[1;33m(\u001b[0m\u001b[1;33m*\u001b[0m\u001b[0minput\u001b[0m\u001b[1;33m,\u001b[0m \u001b[1;33m**\u001b[0m\u001b[0mkwargs\u001b[0m\u001b[1;33m)\u001b[0m\u001b[1;33m\u001b[0m\u001b[0m\n\u001b[0;32m    492\u001b[0m         \u001b[1;32melse\u001b[0m\u001b[1;33m:\u001b[0m\u001b[1;33m\u001b[0m\u001b[0m\n\u001b[1;32m--> 493\u001b[1;33m             \u001b[0mresult\u001b[0m \u001b[1;33m=\u001b[0m \u001b[0mself\u001b[0m\u001b[1;33m.\u001b[0m\u001b[0mforward\u001b[0m\u001b[1;33m(\u001b[0m\u001b[1;33m*\u001b[0m\u001b[0minput\u001b[0m\u001b[1;33m,\u001b[0m \u001b[1;33m**\u001b[0m\u001b[0mkwargs\u001b[0m\u001b[1;33m)\u001b[0m\u001b[1;33m\u001b[0m\u001b[0m\n\u001b[0m\u001b[0;32m    494\u001b[0m         \u001b[1;32mfor\u001b[0m \u001b[0mhook\u001b[0m \u001b[1;32min\u001b[0m \u001b[0mself\u001b[0m\u001b[1;33m.\u001b[0m\u001b[0m_forward_hooks\u001b[0m\u001b[1;33m.\u001b[0m\u001b[0mvalues\u001b[0m\u001b[1;33m(\u001b[0m\u001b[1;33m)\u001b[0m\u001b[1;33m:\u001b[0m\u001b[1;33m\u001b[0m\u001b[0m\n\u001b[0;32m    495\u001b[0m             \u001b[0mhook_result\u001b[0m \u001b[1;33m=\u001b[0m \u001b[0mhook\u001b[0m\u001b[1;33m(\u001b[0m\u001b[0mself\u001b[0m\u001b[1;33m,\u001b[0m \u001b[0minput\u001b[0m\u001b[1;33m,\u001b[0m \u001b[0mresult\u001b[0m\u001b[1;33m)\u001b[0m\u001b[1;33m\u001b[0m\u001b[0m\n",
      "\u001b[1;32m~\\Anaconda3\\envs\\futuremag\\lib\\site-packages\\pytorch_pretrained_bert\\modeling_gpt2.py\u001b[0m in \u001b[0;36mforward\u001b[1;34m(self, x, layer_past)\u001b[0m\n\u001b[0;32m    278\u001b[0m \u001b[1;33m\u001b[0m\u001b[0m\n\u001b[0;32m    279\u001b[0m     \u001b[1;32mdef\u001b[0m \u001b[0mforward\u001b[0m\u001b[1;33m(\u001b[0m\u001b[0mself\u001b[0m\u001b[1;33m,\u001b[0m \u001b[0mx\u001b[0m\u001b[1;33m,\u001b[0m \u001b[0mlayer_past\u001b[0m\u001b[1;33m=\u001b[0m\u001b[1;32mNone\u001b[0m\u001b[1;33m)\u001b[0m\u001b[1;33m:\u001b[0m\u001b[1;33m\u001b[0m\u001b[0m\n\u001b[1;32m--> 280\u001b[1;33m         \u001b[0ma\u001b[0m\u001b[1;33m,\u001b[0m \u001b[0mpresent\u001b[0m \u001b[1;33m=\u001b[0m \u001b[0mself\u001b[0m\u001b[1;33m.\u001b[0m\u001b[0mattn\u001b[0m\u001b[1;33m(\u001b[0m\u001b[0mself\u001b[0m\u001b[1;33m.\u001b[0m\u001b[0mln_1\u001b[0m\u001b[1;33m(\u001b[0m\u001b[0mx\u001b[0m\u001b[1;33m)\u001b[0m\u001b[1;33m,\u001b[0m \u001b[0mlayer_past\u001b[0m\u001b[1;33m=\u001b[0m\u001b[0mlayer_past\u001b[0m\u001b[1;33m)\u001b[0m\u001b[1;33m\u001b[0m\u001b[0m\n\u001b[0m\u001b[0;32m    281\u001b[0m         \u001b[0mx\u001b[0m \u001b[1;33m=\u001b[0m \u001b[0mx\u001b[0m \u001b[1;33m+\u001b[0m \u001b[0ma\u001b[0m\u001b[1;33m\u001b[0m\u001b[0m\n\u001b[0;32m    282\u001b[0m         \u001b[0mm\u001b[0m \u001b[1;33m=\u001b[0m \u001b[0mself\u001b[0m\u001b[1;33m.\u001b[0m\u001b[0mmlp\u001b[0m\u001b[1;33m(\u001b[0m\u001b[0mself\u001b[0m\u001b[1;33m.\u001b[0m\u001b[0mln_2\u001b[0m\u001b[1;33m(\u001b[0m\u001b[0mx\u001b[0m\u001b[1;33m)\u001b[0m\u001b[1;33m)\u001b[0m\u001b[1;33m\u001b[0m\u001b[0m\n",
      "\u001b[1;32m~\\Anaconda3\\envs\\futuremag\\lib\\site-packages\\torch\\nn\\modules\\module.py\u001b[0m in \u001b[0;36m__call__\u001b[1;34m(self, *input, **kwargs)\u001b[0m\n\u001b[0;32m    491\u001b[0m             \u001b[0mresult\u001b[0m \u001b[1;33m=\u001b[0m \u001b[0mself\u001b[0m\u001b[1;33m.\u001b[0m\u001b[0m_slow_forward\u001b[0m\u001b[1;33m(\u001b[0m\u001b[1;33m*\u001b[0m\u001b[0minput\u001b[0m\u001b[1;33m,\u001b[0m \u001b[1;33m**\u001b[0m\u001b[0mkwargs\u001b[0m\u001b[1;33m)\u001b[0m\u001b[1;33m\u001b[0m\u001b[0m\n\u001b[0;32m    492\u001b[0m         \u001b[1;32melse\u001b[0m\u001b[1;33m:\u001b[0m\u001b[1;33m\u001b[0m\u001b[0m\n\u001b[1;32m--> 493\u001b[1;33m             \u001b[0mresult\u001b[0m \u001b[1;33m=\u001b[0m \u001b[0mself\u001b[0m\u001b[1;33m.\u001b[0m\u001b[0mforward\u001b[0m\u001b[1;33m(\u001b[0m\u001b[1;33m*\u001b[0m\u001b[0minput\u001b[0m\u001b[1;33m,\u001b[0m \u001b[1;33m**\u001b[0m\u001b[0mkwargs\u001b[0m\u001b[1;33m)\u001b[0m\u001b[1;33m\u001b[0m\u001b[0m\n\u001b[0m\u001b[0;32m    494\u001b[0m         \u001b[1;32mfor\u001b[0m \u001b[0mhook\u001b[0m \u001b[1;32min\u001b[0m \u001b[0mself\u001b[0m\u001b[1;33m.\u001b[0m\u001b[0m_forward_hooks\u001b[0m\u001b[1;33m.\u001b[0m\u001b[0mvalues\u001b[0m\u001b[1;33m(\u001b[0m\u001b[1;33m)\u001b[0m\u001b[1;33m:\u001b[0m\u001b[1;33m\u001b[0m\u001b[0m\n\u001b[0;32m    495\u001b[0m             \u001b[0mhook_result\u001b[0m \u001b[1;33m=\u001b[0m \u001b[0mhook\u001b[0m\u001b[1;33m(\u001b[0m\u001b[0mself\u001b[0m\u001b[1;33m,\u001b[0m \u001b[0minput\u001b[0m\u001b[1;33m,\u001b[0m \u001b[0mresult\u001b[0m\u001b[1;33m)\u001b[0m\u001b[1;33m\u001b[0m\u001b[0m\n",
      "\u001b[1;32m~\\Anaconda3\\envs\\futuremag\\lib\\site-packages\\pytorch_pretrained_bert\\modeling_gpt2.py\u001b[0m in \u001b[0;36mforward\u001b[1;34m(self, x, layer_past)\u001b[0m\n\u001b[0;32m    246\u001b[0m             \u001b[0mpast_key\u001b[0m\u001b[1;33m,\u001b[0m \u001b[0mpast_value\u001b[0m \u001b[1;33m=\u001b[0m \u001b[0mlayer_past\u001b[0m\u001b[1;33m[\u001b[0m\u001b[1;36m0\u001b[0m\u001b[1;33m]\u001b[0m\u001b[1;33m.\u001b[0m\u001b[0mtranspose\u001b[0m\u001b[1;33m(\u001b[0m\u001b[1;33m-\u001b[0m\u001b[1;36m2\u001b[0m\u001b[1;33m,\u001b[0m \u001b[1;33m-\u001b[0m\u001b[1;36m1\u001b[0m\u001b[1;33m)\u001b[0m\u001b[1;33m,\u001b[0m \u001b[0mlayer_past\u001b[0m\u001b[1;33m[\u001b[0m\u001b[1;36m1\u001b[0m\u001b[1;33m]\u001b[0m  \u001b[1;31m# transpose back cf below\u001b[0m\u001b[1;33m\u001b[0m\u001b[0m\n\u001b[0;32m    247\u001b[0m             \u001b[0mkey\u001b[0m \u001b[1;33m=\u001b[0m \u001b[0mtorch\u001b[0m\u001b[1;33m.\u001b[0m\u001b[0mcat\u001b[0m\u001b[1;33m(\u001b[0m\u001b[1;33m(\u001b[0m\u001b[0mpast_key\u001b[0m\u001b[1;33m,\u001b[0m \u001b[0mkey\u001b[0m\u001b[1;33m)\u001b[0m\u001b[1;33m,\u001b[0m \u001b[0mdim\u001b[0m\u001b[1;33m=\u001b[0m\u001b[1;33m-\u001b[0m\u001b[1;36m1\u001b[0m\u001b[1;33m)\u001b[0m\u001b[1;33m\u001b[0m\u001b[0m\n\u001b[1;32m--> 248\u001b[1;33m             \u001b[0mvalue\u001b[0m \u001b[1;33m=\u001b[0m \u001b[0mtorch\u001b[0m\u001b[1;33m.\u001b[0m\u001b[0mcat\u001b[0m\u001b[1;33m(\u001b[0m\u001b[1;33m(\u001b[0m\u001b[0mpast_value\u001b[0m\u001b[1;33m,\u001b[0m \u001b[0mvalue\u001b[0m\u001b[1;33m)\u001b[0m\u001b[1;33m,\u001b[0m \u001b[0mdim\u001b[0m\u001b[1;33m=\u001b[0m\u001b[1;33m-\u001b[0m\u001b[1;36m2\u001b[0m\u001b[1;33m)\u001b[0m\u001b[1;33m\u001b[0m\u001b[0m\n\u001b[0m\u001b[0;32m    249\u001b[0m         \u001b[0mpresent\u001b[0m \u001b[1;33m=\u001b[0m \u001b[0mtorch\u001b[0m\u001b[1;33m.\u001b[0m\u001b[0mstack\u001b[0m\u001b[1;33m(\u001b[0m\u001b[1;33m(\u001b[0m\u001b[0mkey\u001b[0m\u001b[1;33m.\u001b[0m\u001b[0mtranspose\u001b[0m\u001b[1;33m(\u001b[0m\u001b[1;33m-\u001b[0m\u001b[1;36m2\u001b[0m\u001b[1;33m,\u001b[0m \u001b[1;33m-\u001b[0m\u001b[1;36m1\u001b[0m\u001b[1;33m)\u001b[0m\u001b[1;33m,\u001b[0m \u001b[0mvalue\u001b[0m\u001b[1;33m)\u001b[0m\u001b[1;33m)\u001b[0m  \u001b[1;31m# transpose to have same shapes for stacking\u001b[0m\u001b[1;33m\u001b[0m\u001b[0m\n\u001b[0;32m    250\u001b[0m         \u001b[0ma\u001b[0m \u001b[1;33m=\u001b[0m \u001b[0mself\u001b[0m\u001b[1;33m.\u001b[0m\u001b[0m_attn\u001b[0m\u001b[1;33m(\u001b[0m\u001b[0mquery\u001b[0m\u001b[1;33m,\u001b[0m \u001b[0mkey\u001b[0m\u001b[1;33m,\u001b[0m \u001b[0mvalue\u001b[0m\u001b[1;33m)\u001b[0m\u001b[1;33m\u001b[0m\u001b[0m\n",
      "\u001b[1;31mKeyboardInterrupt\u001b[0m: "
     ]
    }
   ],
   "source": [
    "run_model(\"It was nearly two weeks later when the cosmonaut was jolted out of sleep, jolted by\")"
   ]
  },
  {
   "cell_type": "code",
   "execution_count": null,
   "metadata": {},
   "outputs": [],
   "source": []
  }
 ],
 "metadata": {
  "kernelspec": {
   "display_name": "Python 3",
   "language": "python",
   "name": "python3"
  },
  "language_info": {
   "codemirror_mode": {
    "name": "ipython",
    "version": 3
   },
   "file_extension": ".py",
   "mimetype": "text/x-python",
   "name": "python",
   "nbconvert_exporter": "python",
   "pygments_lexer": "ipython3",
   "version": "3.6.5"
  }
 },
 "nbformat": 4,
 "nbformat_minor": 2
}
