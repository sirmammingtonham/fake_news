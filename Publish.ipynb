{
 "cells": [
  {
   "cell_type": "code",
   "execution_count": 1,
   "metadata": {},
   "outputs": [],
   "source": [
    "import re\n",
    "import os\n",
    "import sys\n",
    "import random\n",
    "import gpt_2_simple as gpt2\n",
    "import tensorflow as tf\n",
    "\n",
    "import numpy as np"
   ]
  },
  {
   "cell_type": "code",
   "execution_count": 2,
   "metadata": {},
   "outputs": [],
   "source": [
    "from random_word import RandomWords\n",
    "import requests\n",
    "import giphy_client\n",
    "\n",
    "from unsplash.api import Api\n",
    "from unsplash.auth import Auth\n",
    "\n",
    "from medium import Client"
   ]
  },
  {
   "cell_type": "code",
   "execution_count": 23,
   "metadata": {},
   "outputs": [],
   "source": [
    "tags = {#'montag': ['Fake News', 'Opinion', 'Artificial Intelligence', 'NLP', 'Future'], \n",
    "        'onezero': ['Artificial Intelligence', 'Technology', 'NLP', 'Future'], \n",
    "        #'futura': ['Sci Fi Fantasy', 'Artificial Intelligence', 'NLP', 'Future', 'Storytelling']\n",
    "       }"
   ]
  },
  {
   "cell_type": "code",
   "execution_count": 4,
   "metadata": {},
   "outputs": [],
   "source": [
    "def clean(story):\n",
    "    story = story.replace('&lt;|url|&gt;', 'https://github.com/sirmammingtonham/futureMAG')\n",
    "    story = story.replace('OneZero', 'FutureMAG')\n",
    "    story = story.replace('onezero', 'FutureMAG')\n",
    "    return story[16:]"
   ]
  },
  {
   "cell_type": "code",
   "execution_count": 5,
   "metadata": {},
   "outputs": [],
   "source": [
    "def split_story(story, run_name):\n",
    "    story = clean(story)\n",
    "    split = re.split('(\\.)', story)[0:-1]\n",
    "    metadata = split[0]\n",
    "    title = metadata[metadata.find('# ')+2:metadata.find('## ')].strip('\\n')\n",
    "    subtitle = metadata[metadata.find('## ')+3:metadata.find('\\n', metadata.find('## '))].strip('\\n')\n",
    "    \n",
    "    split[0] = split[0].replace(subtitle, f\"{subtitle} | AI generated article*\")\n",
    "#     if len(title.split(' ')) <= 2:\n",
    "#         split = story.split('\\n', 3)\n",
    "#         title = split[1]\n",
    "#         subtitle = split[2]\n",
    "#         return [title, subtitle, split[3]]\n",
    "    return [title, f\"{subtitle} | AI generated article*\", ''.join(split), None, run_name]"
   ]
  },
  {
   "cell_type": "code",
   "execution_count": 6,
   "metadata": {},
   "outputs": [],
   "source": [
    "def retrieve_images(story):\n",
    "    #story[1] = subtitle\n",
    "    #story[2] = story\n",
    "    matches = [(m.group(), m.start(0)) for m in re.finditer(r\"(<\\|image\\|>)\", story[2])]\n",
    "    image_creds = []\n",
    "    try:\n",
    "        client_id = \"b9a6edaadf1b5ec49cf05f10aab79d5d2ea1fe66431605d12ec0f7ec22bc7289\"\n",
    "        client_secret = \"f00e14688a25656c07f07d85e17b4ebd94e93fcf9bf0fd1859f7713ea1d94c16\"\n",
    "        redirect_uri = \"urn:ietf:wg:oauth:2.0:oob\"\n",
    "        auth = Auth(client_id, client_secret, redirect_uri)\n",
    "        api = Api(auth)\n",
    "#         q = max(re.sub(r'[^\\w\\s]', '', story[0]).split(), key=len) #take longest word from subtitle as search term\n",
    "        q = story[0].split(' ')[:5]\n",
    "        for match, idx in matches:\n",
    "            pic = api.photo.random(query=q)[0]\n",
    "            img = pic.urls.raw\n",
    "            image_creds.append((f'https://unsplash.com/@{pic.user.username}', pic.user.name))\n",
    "            cap_idx = story[2].find('*', idx+11)\n",
    "            story[2] = story[2][:cap_idx] + '&ast;&ast;' + story[2][cap_idx:]\n",
    "            story[2] = story[2][:idx] + img + story[2][idx+9:]\n",
    "    except:\n",
    "        return story\n",
    "    story[3] = image_creds\n",
    "    return story"
   ]
  },
  {
   "cell_type": "code",
   "execution_count": 7,
   "metadata": {},
   "outputs": [],
   "source": [
    "def publish(title, sub, article, creds, run_name):\n",
    "    if title == sub:\n",
    "        return\n",
    "    #holy shit this is excessive\n",
    "    tag = tags['onezero'] + [max(re.sub(r'[^\\w\\s]','',title).split(), key=len).capitalize()]\n",
    "    \n",
    "    access_token = '2aea40d684c5c501066c6f624d05c952256f0664585d9a36b394c0821ee646499'\n",
    "    headers = {\n",
    "        'Authorization': \"Bearer \" + access_token,\n",
    "        'User-Agent': 'Mozilla/5.0 (Windows NT 6.3; Win64; x64) AppleWebKit/537.36 (KHTML, like Gecko) Chrome/63.0.3239.84 Safari/537.36'\n",
    "    }\n",
    "    \n",
    "    base_url = \"https://api.medium.com/v1/\"\n",
    "\n",
    "    me_response = requests.request(\"GET\", base_url + 'me', headers=headers).text\n",
    "    json_me_response = json.loads(me_response)\n",
    "    user_id = json_me_response['data']['id']\n",
    "    user_url = base_url + 'users/' + user_id + '/'\n",
    "    posts_url = user_url + 'posts/'\n",
    "    pub_url = base_url + 'publications/424c42caa624/posts/'\n",
    "    \n",
    "    if not creds:\n",
    "        return\n",
    "    else:\n",
    "        img_creds = \"\"\n",
    "        for auth_url, author in creds:\n",
    "            img_creds += f\"[{author}]({auth_url})\"\n",
    "            img_creds += ', ' if len(creds) > 1 else ' '\n",
    "        img_creds += \"on [Unsplash](https://unsplash.com/)\"\n",
    "    \n",
    "    article += \"\\n\\n*This article was written by a [GPT-2 neural network](https://openai.com/blog/better-language-models). All information in this story is most likely false, and all opinions expressed are fake. Weird to think about…\\n\\n\"\n",
    "    article += f\"**This caption was artificially generated. Image downloaded automatically from {img_creds}.\\n\\n\"\n",
    "    article += \"All links in this article are placeholders generated by the neural network, signifying that an actual link should have been generated there. These placeholders were later replaced by a link to the github project page.\\n\\n\"\n",
    "    article += \"**futureMAG** is an experiment in automated storytelling/journalism. This story was created and published without human intervention.\\n\\n\"\n",
    "    article += \"Code for this project available on github: \"\n",
    "    article += \"**[sirmammingtonham/futureMAG](https://github.com/sirmammingtonham/futureMAG)**\"\n",
    "    payload = {\n",
    "    'title': title,\n",
    "    'contentFormat': 'markdown',\n",
    "    'tags': tag if run_name == 'onezero' else tags[run_name],\n",
    "    'publishStatus': 'draft',\n",
    "    'content': article\n",
    "    }\n",
    "    response = requests.request('POST', pub_url, data=payload, headers=headers)\n",
    "    print(response.text)\n",
    "    return payload"
   ]
  },
  {
   "cell_type": "raw",
   "metadata": {},
   "source": [
    "story = stories[0]\n",
    "split = re.split('(\\.)', story)[0:-1]\n",
    "metadata = split[0]\n",
    "title = metadata[metadata.find('# ')+2:metadata.find('## ')].strip('\\n')\n",
    "subtitle = metadata[metadata.find('## ')+3:metadata.find('\\n', metadata.find('## '))].strip('\\n')\n",
    "split[0] = split[0].replace(subtitle, f\"{subtitle} | AI generated article*\")"
   ]
  },
  {
   "cell_type": "raw",
   "metadata": {},
   "source": [
    "bruh = [(m.group(), m.start(0)) for m in re.finditer(r\"(<\\|image\\|>)\", story)]\n",
    "for match, idx in bruh:\n",
    "    cap_idx = story.find('*', idx+11)\n",
    "    print(story[:cap_idx] + '&ast;&ast;' + story[cap_idx:])\n",
    "    print(story[:idx] + 'url' + story[idx+9:])"
   ]
  },
  {
   "cell_type": "raw",
   "metadata": {},
   "source": [
    "story = stories[0]\n",
    "split = re.split('(\\.)', story)[0:-1]\n",
    "metadata = split[0]\n",
    "title = metadata[metadata.find('# ')+2:metadata.find('## ')].strip('\\n')\n",
    "subtitle = metadata[metadata.find('## ')+3:metadata.find('\\n', metadata.find('## '))].strip('\\n')\n",
    "split[0] = split[0].replace(subtitle, f\"{subtitle} | AI generated article*\")"
   ]
  },
  {
   "cell_type": "raw",
   "metadata": {},
   "source": [
    "bruh = [(m.group(), m.start(0)) for m in re.finditer(r\"(<\\|image\\|>)\", story)]\n",
    "for match, idx in bruh:\n",
    "    cap_idx = story.find('*', idx+11)\n",
    "    print(story[:cap_idx] + '&ast;&ast;' + story[cap_idx:])\n",
    "    print(story[:idx] + 'url' + story[idx+9:])"
   ]
  },
  {
   "cell_type": "code",
   "execution_count": 9,
   "metadata": {},
   "outputs": [
    {
     "name": "stdout",
     "output_type": "stream",
     "text": [
      "WARNING:tensorflow:From C:\\Users\\ethan\\Anaconda3\\envs\\futuremag\\lib\\site-packages\\tensorflow\\python\\framework\\op_def_library.py:263: colocate_with (from tensorflow.python.framework.ops) is deprecated and will be removed in a future version.\n",
      "Instructions for updating:\n",
      "Colocations handled automatically by placer.\n",
      "Loading checkpoint checkpoint\\onezero_m\\model-17000\n",
      "WARNING:tensorflow:From C:\\Users\\ethan\\Anaconda3\\envs\\futuremag\\lib\\site-packages\\tensorflow\\python\\training\\saver.py:1266: checkpoint_exists (from tensorflow.python.training.checkpoint_management) is deprecated and will be removed in a future version.\n",
      "Instructions for updating:\n",
      "Use standard file APIs to check for files with this prefix.\n",
      "INFO:tensorflow:Restoring parameters from checkpoint\\onezero_m\\model-17000\n"
     ]
    }
   ],
   "source": [
    "run_name = 'onezero_m'\n",
    "sess = gpt2.start_tf_sess()\n",
    "gpt2.load_gpt2(sess, run_name)"
   ]
  },
  {
   "cell_type": "code",
   "execution_count": 10,
   "metadata": {},
   "outputs": [
    {
     "name": "stdout",
     "output_type": "stream",
     "text": [
      "WARNING:tensorflow:From C:\\Users\\ethan\\Anaconda3\\envs\\futuremag\\lib\\site-packages\\gpt_2_simple\\src\\sample.py:71: to_float (from tensorflow.python.ops.math_ops) is deprecated and will be removed in a future version.\n",
      "Instructions for updating:\n",
      "Use tf.cast instead.\n",
      "WARNING:tensorflow:From C:\\Users\\ethan\\Anaconda3\\envs\\futuremag\\lib\\site-packages\\gpt_2_simple\\src\\sample.py:77: multinomial (from tensorflow.python.ops.random_ops) is deprecated and will be removed in a future version.\n",
      "Instructions for updating:\n",
      "Use tf.random.categorical instead.\n",
      "1016\n",
      "1528\n"
     ]
    }
   ],
   "source": [
    "stories = gpt2.generate(\n",
    "    sess, run_name, return_as_list=True,\n",
    "    truncate=\"<|endoftext|>\", prefix=\"<|startoftext|>\",\n",
    "    nsamples=1, batch_size=1, length=8000,\n",
    "    temperature=1,\n",
    "    top_p=0.9,\n",
    "    split_context=0.5,\n",
    ")"
   ]
  },
  {
   "cell_type": "code",
   "execution_count": 19,
   "metadata": {},
   "outputs": [],
   "source": [
    "articles = []\n",
    "\n",
    "for story in stories:\n",
    "    articles.append(split_story(story, run_name))\n",
    "\n",
    "for article in articles:\n",
    "    article = retrieve_images(article)"
   ]
  },
  {
   "cell_type": "code",
   "execution_count": 20,
   "metadata": {},
   "outputs": [],
   "source": [
    "articles[0][-1] = 'onezero'"
   ]
  },
  {
   "cell_type": "code",
   "execution_count": 21,
   "metadata": {},
   "outputs": [
    {
     "data": {
      "text/plain": [
       "[['Hint: The Constellation of Scorpio',\n",
       "  'The brightest star in the night sky | AI generated article*',\n",
       "  '# Hint: The Constellation of Scorpio\\n\\n## The brightest star in the night sky | AI generated article*\\n\\n![Scalia looks toward Earth through NASA’s Hubble Space Telescope’s viewing window.](https://images.unsplash.com/photo-1496348323715-c11f0fc6aeed?ixlib=rb-1.2.1&ixid=eyJhcHBfaWQiOjgwNzY1fQ)*Scalia looks toward Earth through NASA’s Hubble Space Telescope’s viewing window.&ast;&ast;*\\n\\nAstronomers love Eta Carinae, a relatively nearby superstar that exploded nearly two centuries ago, and has offered humans a ringside seat to a spectacular cosmic display. The explosion — which scientists call a black hole — has persisted even though the star has since faded from view.\\n\\nThe explosion of Scorpio, first spotted by NASA’s Voyager mission in 1977, has persisted for years despite being located thousands of light-years away in the constellation Scorpio. New imaging studies by the HiRISE camera revealed the star to be a relatively massive star, with remnants of a planetary nebula and magnetic field that we see through the Hubble Space Telescope.\\n\\nIn 2001, another team of researchers3 released the paper “[Eta Carinae: The Giant Star in the Night Sky](https://github.com/sirmammingtonham/futureMAG)” in which they made a supernova explosion sound like a typical giant star. The explosion, which they christened the Great Synodic Event (GTEO), shocked the surrounding area and eventually revealed a violent X-ray glow that we can see through the Hubble Space Telescope. Although the energy of the explosion was enormous, the gravitational waves we see are so fast that light cannot travel fast enough to be seen.\\n\\nThe new image, released in 2016, reveals X-ray alonghttps://images.unsplash.com/photo-1496348323715-c11f0fc6aeed?ixlib=rb-1.2.1&ixid=eyJhcHBfaWQiOjgwNzY1fQible-light emissions.\\n\\n![Credit: X-ray: NASA/CXC/MSSL/R.Soria et al, Optical: AURA/Gemini OBs](<|image|>)&ahttps://images.unsplash.com/photo-1496348323715-c11f0fc6aeed?ixlib=rb-1.2.1&ixid=eyJhcHBfaWQiOjgwNzY1fQCredit: X-ray: NASA/CXC/MSSL/R.Soria et al, Optical: AURA/Gemini OBs&ast;&ast;*\\n\\n3. Giant star cluster explodes eahttps://images.unsplash.com/photo-1531705771309-2c39f632e69a?ixlib=rb-1.2.1&ixid=eyJhcHBfaWQiOjgwNzY1fQsmic history\\n\\n![Credit: X-ray: NASA/CXC/MSSL/R.Soria et al, Optical: AURA/Gemini OBs](<|image|>)&ast;&ast;*Credit: X-ray: NASA/CXC/MSSL/R.Soria et al, Optical: AURA/Gemini OBs*\\n\\n2. The giant star cluster explodes even earlier than expected\\n\\n![Credit: X-ray: NASA/CXC/MSSL/R.Soria et al, Optical: AURA/Gemini OBs](<|image|>)*Credit: X-ray: NASA/CXC/MSSL/R.Soria et al, Optical: AURA/Gini OBs*\\nhttps://images.unsplash.com/photo-1531705771309-2c39f632e69a?ixlib=rb-1.2.1&ixid=eyJhcHBfaWQiOjgwNzY1fQiant star cluster is actually a collection of stars that are simply massive stars. No planets, no satellites, no satellites, no telescopes. Just four dwarf stars that exploded some 2 billion years ago, and the resulting dhttps://images.unsplash.com/photo-1496348323715-c11f0fc6aeed?ixlib=rb-1.2.1&ixid=eyJhcHBfaWQiOjgwNzY1fQtinues to build up in the center. Photo courtesy of NASA, ESA, NGC 3603. Photo courtesy of NASA, ESA, MSSL/R.Soria, et al.\\n\\n![Credit: X-ray: NASA/Gerald Eichstädt/Getty Images](<|image|>)&ast;&ast;&ast;&ast;*Credit: X-ray: NASA/Gerald Eichstädt/Getty Images*\\n\\n2. This is what astronomers see when they look through Hubble’s Veil gate. Photo courtesy of NASA, ESA, and AFRI.\\n\\n3. That’s the massive amount of material moving through the event Horizon Strider photographed through. Credit: NASA/JPL/Spitzer Space Telescope](<|image|>)*Credit: NASA/JPL/Spitzer Space Telescope*\\n\\n4. The largest stars in our night sky, such as our sun and the planets Mars and Jupiter, are classified as white dwarfs, so named because they seem to be so massive. In comparison, the biggest stars seen in the night sky, such as the sun and the huge planets, are red dwarfs, or small stars that scientists cannot easily make out because they are so massive.\\n\\nThe new images from Hubble’s Hubble Space Telescope show a series of three galaxies interacting in unprecedented detail, with ultraviolet light streaming out of the central black hole and streaming through the event horizon. These images are too extreme to see anything else visible, but Gibson understands that the technology isn’t available to survey the entire arc. “It has to be a region that can be explored using the technologies we have now,” he says.\\n\\nScientists can’t predict how a black hole in a galaxy would eventually manage to consume a star. “We don’t know how massive the black holes are, how stable they are,” says Gibson. “We don’t know how hot they are, how much they are able to consume.”\\n\\nScientists can only guess at the ultimate fate of the dinosaurs if another star passes too close. “Just because there’s a possibility that another star might be able to provide some material doesn’t mean that we shouldn’t look into it,” says Hammel. “It just means it’s a possibility.”\\n\\nScientists can’t predict how a black hole in a galaxy will consume a star, or even whether or not a star will eventually receive any energy from a black hole. Even if we discovered life outside the solar system, discovering another planet in the process could be the final nail in the coffin.\\n\\n“It’s pretty straightforward,” says Hammel. “You take a supernova and you make a black hole.”\\n\\nBlack holes are black because even when we see them, they’re so small. While our sun is huge, the black hole we’re dealing with is so tiny. Even when we discover life outside the solar system, van Hoed continues to carry on a conversation with scientists, and hopes to one day lead NASA to the same place he has found a white dwarf.\\n\\n“I think this is really critical. We need to listen to what our colleagues in Europe and elsewhere are saying,” he says. “They’re really leading the way.',\n",
       "  [('https://unsplash.com/@ihs_photo', 'Ian Simmonds'),\n",
       "   ('https://unsplash.com/@ihs_photo', 'Ian Simmonds'),\n",
       "   ('https://unsplash.com/@ihs_photo', 'Ian Simmonds'),\n",
       "   ('https://unsplash.com/@pedrobarros', 'Pedro Barros'),\n",
       "   ('https://unsplash.com/@pedrobarros', 'Pedro Barros'),\n",
       "   ('https://unsplash.com/@ihs_photo', 'Ian Simmonds')],\n",
       "  'onezero']]"
      ]
     },
     "execution_count": 21,
     "metadata": {},
     "output_type": "execute_result"
    }
   ],
   "source": [
    "articles"
   ]
  },
  {
   "cell_type": "code",
   "execution_count": 24,
   "metadata": {},
   "outputs": [
    {
     "name": "stdout",
     "output_type": "stream",
     "text": [
      "{\"data\":{\"id\":\"72b08be038c4\",\"title\":\"Hint: The Constellation of Scorpio\",\"authorId\":\"113d0ce3c66e5af777e596aa4d9fbbc9bbe91a02c53080b3b5407c7bb8819a607\",\"url\":\"https://medium.com/@futureBOT/72b08be038c4\",\"canonicalUrl\":\"\",\"publishStatus\":\"draft\",\"license\":\"\",\"licenseUrl\":\"https://medium.com/policy/9db0094a1e0f\",\"tags\":[\"constellation\",\"nlp\",\"future\",\"technology\",\"artificial-intelligence\"],\"publicationId\":\"424c42caa624\"}}\n"
     ]
    },
    {
     "data": {
      "text/plain": [
       "{'title': 'Hint: The Constellation of Scorpio',\n",
       " 'contentFormat': 'markdown',\n",
       " 'tags': ['Artificial Intelligence',\n",
       "  'Technology',\n",
       "  'NLP',\n",
       "  'Future',\n",
       "  'Constellation'],\n",
       " 'publishStatus': 'draft',\n",
       " 'content': '# Hint: The Constellation of Scorpio\\n\\n## The brightest star in the night sky | AI generated article*\\n\\n![Scalia looks toward Earth through NASA’s Hubble Space Telescope’s viewing window.](https://images.unsplash.com/photo-1496348323715-c11f0fc6aeed?ixlib=rb-1.2.1&ixid=eyJhcHBfaWQiOjgwNzY1fQ)*Scalia looks toward Earth through NASA’s Hubble Space Telescope’s viewing window.&ast;&ast;*\\n\\nAstronomers love Eta Carinae, a relatively nearby superstar that exploded nearly two centuries ago, and has offered humans a ringside seat to a spectacular cosmic display. The explosion — which scientists call a black hole — has persisted even though the star has since faded from view.\\n\\nThe explosion of Scorpio, first spotted by NASA’s Voyager mission in 1977, has persisted for years despite being located thousands of light-years away in the constellation Scorpio. New imaging studies by the HiRISE camera revealed the star to be a relatively massive star, with remnants of a planetary nebula and magnetic field that we see through the Hubble Space Telescope.\\n\\nIn 2001, another team of researchers3 released the paper “[Eta Carinae: The Giant Star in the Night Sky](https://github.com/sirmammingtonham/futureMAG)” in which they made a supernova explosion sound like a typical giant star. The explosion, which they christened the Great Synodic Event (GTEO), shocked the surrounding area and eventually revealed a violent X-ray glow that we can see through the Hubble Space Telescope. Although the energy of the explosion was enormous, the gravitational waves we see are so fast that light cannot travel fast enough to be seen.\\n\\nThe new image, released in 2016, reveals X-ray alonghttps://images.unsplash.com/photo-1496348323715-c11f0fc6aeed?ixlib=rb-1.2.1&ixid=eyJhcHBfaWQiOjgwNzY1fQible-light emissions.\\n\\n![Credit: X-ray: NASA/CXC/MSSL/R.Soria et al, Optical: AURA/Gemini OBs](<|image|>)&ahttps://images.unsplash.com/photo-1496348323715-c11f0fc6aeed?ixlib=rb-1.2.1&ixid=eyJhcHBfaWQiOjgwNzY1fQCredit: X-ray: NASA/CXC/MSSL/R.Soria et al, Optical: AURA/Gemini OBs&ast;&ast;*\\n\\n3. Giant star cluster explodes eahttps://images.unsplash.com/photo-1531705771309-2c39f632e69a?ixlib=rb-1.2.1&ixid=eyJhcHBfaWQiOjgwNzY1fQsmic history\\n\\n![Credit: X-ray: NASA/CXC/MSSL/R.Soria et al, Optical: AURA/Gemini OBs](<|image|>)&ast;&ast;*Credit: X-ray: NASA/CXC/MSSL/R.Soria et al, Optical: AURA/Gemini OBs*\\n\\n2. The giant star cluster explodes even earlier than expected\\n\\n![Credit: X-ray: NASA/CXC/MSSL/R.Soria et al, Optical: AURA/Gemini OBs](<|image|>)*Credit: X-ray: NASA/CXC/MSSL/R.Soria et al, Optical: AURA/Gini OBs*\\nhttps://images.unsplash.com/photo-1531705771309-2c39f632e69a?ixlib=rb-1.2.1&ixid=eyJhcHBfaWQiOjgwNzY1fQiant star cluster is actually a collection of stars that are simply massive stars. No planets, no satellites, no satellites, no telescopes. Just four dwarf stars that exploded some 2 billion years ago, and the resulting dhttps://images.unsplash.com/photo-1496348323715-c11f0fc6aeed?ixlib=rb-1.2.1&ixid=eyJhcHBfaWQiOjgwNzY1fQtinues to build up in the center. Photo courtesy of NASA, ESA, NGC 3603. Photo courtesy of NASA, ESA, MSSL/R.Soria, et al.\\n\\n![Credit: X-ray: NASA/Gerald Eichstädt/Getty Images](<|image|>)&ast;&ast;&ast;&ast;*Credit: X-ray: NASA/Gerald Eichstädt/Getty Images*\\n\\n2. This is what astronomers see when they look through Hubble’s Veil gate. Photo courtesy of NASA, ESA, and AFRI.\\n\\n3. That’s the massive amount of material moving through the event Horizon Strider photographed through. Credit: NASA/JPL/Spitzer Space Telescope](<|image|>)*Credit: NASA/JPL/Spitzer Space Telescope*\\n\\n4. The largest stars in our night sky, such as our sun and the planets Mars and Jupiter, are classified as white dwarfs, so named because they seem to be so massive. In comparison, the biggest stars seen in the night sky, such as the sun and the huge planets, are red dwarfs, or small stars that scientists cannot easily make out because they are so massive.\\n\\nThe new images from Hubble’s Hubble Space Telescope show a series of three galaxies interacting in unprecedented detail, with ultraviolet light streaming out of the central black hole and streaming through the event horizon. These images are too extreme to see anything else visible, but Gibson understands that the technology isn’t available to survey the entire arc. “It has to be a region that can be explored using the technologies we have now,” he says.\\n\\nScientists can’t predict how a black hole in a galaxy would eventually manage to consume a star. “We don’t know how massive the black holes are, how stable they are,” says Gibson. “We don’t know how hot they are, how much they are able to consume.”\\n\\nScientists can only guess at the ultimate fate of the dinosaurs if another star passes too close. “Just because there’s a possibility that another star might be able to provide some material doesn’t mean that we shouldn’t look into it,” says Hammel. “It just means it’s a possibility.”\\n\\nScientists can’t predict how a black hole in a galaxy will consume a star, or even whether or not a star will eventually receive any energy from a black hole. Even if we discovered life outside the solar system, discovering another planet in the process could be the final nail in the coffin.\\n\\n“It’s pretty straightforward,” says Hammel. “You take a supernova and you make a black hole.”\\n\\nBlack holes are black because even when we see them, they’re so small. While our sun is huge, the black hole we’re dealing with is so tiny. Even when we discover life outside the solar system, van Hoed continues to carry on a conversation with scientists, and hopes to one day lead NASA to the same place he has found a white dwarf.\\n\\n“I think this is really critical. We need to listen to what our colleagues in Europe and elsewhere are saying,” he says. “They’re really leading the way.*This article was written by a [GPT-2 neural network](https://openai.com/blog/better-language-models). All information in this story is most likely false, and all opinions expressed are fake. Weird to think about…\\n\\n**This caption was artificially generated. Image downloaded automatically from [Ian Simmonds](https://unsplash.com/@ihs_photo), [Ian Simmonds](https://unsplash.com/@ihs_photo), [Ian Simmonds](https://unsplash.com/@ihs_photo), [Pedro Barros](https://unsplash.com/@pedrobarros), [Pedro Barros](https://unsplash.com/@pedrobarros), [Ian Simmonds](https://unsplash.com/@ihs_photo), on [Unsplash](https://unsplash.com/).\\n\\nAll links in this article are placeholders generated by the neural network, signifying that an actual link should have been generated there. These placeholders were later replaced by a link to the github project page.\\n\\n**futureMAG** is an experiment in automated storytelling/journalism. This story was created and published without human intervention.\\n\\nCode for this project available on github: **[sirmammingtonham/futureMAG](https://github.com/sirmammingtonham/futureMAG)**'}"
      ]
     },
     "execution_count": 24,
     "metadata": {},
     "output_type": "execute_result"
    }
   ],
   "source": [
    "publish(*articles[0])"
   ]
  },
  {
   "cell_type": "code",
   "execution_count": null,
   "metadata": {},
   "outputs": [],
   "source": []
  }
 ],
 "metadata": {
  "kernelspec": {
   "display_name": "Python 3",
   "language": "python",
   "name": "python3"
  },
  "language_info": {
   "codemirror_mode": {
    "name": "ipython",
    "version": 3
   },
   "file_extension": ".py",
   "mimetype": "text/x-python",
   "name": "python",
   "nbconvert_exporter": "python",
   "pygments_lexer": "ipython3",
   "version": "3.6.5"
  }
 },
 "nbformat": 4,
 "nbformat_minor": 2
}
